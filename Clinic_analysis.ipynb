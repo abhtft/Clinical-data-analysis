{
 "cells": [
  {
   "cell_type": "code",
   "execution_count": 1,
   "id": "5ff2d92f",
   "metadata": {},
   "outputs": [],
   "source": [
    "import numpy as np\n",
    "import pandas as pd\n",
    "import seaborn as sns\n",
    "import matplotlib.pyplot as plt\n",
    "import matplotlib as mlp\n"
   ]
  },
  {
   "cell_type": "code",
   "execution_count": 2,
   "id": "8eb0660e",
   "metadata": {},
   "outputs": [],
   "source": [
    "dfbill=pd.read_csv(r\"D:\\DS\\Doctor\\bill.csv\")"
   ]
  },
  {
   "cell_type": "code",
   "execution_count": 3,
   "id": "7b43c48a",
   "metadata": {},
   "outputs": [
    {
     "data": {
      "text/html": [
       "<div>\n",
       "<style scoped>\n",
       "    .dataframe tbody tr th:only-of-type {\n",
       "        vertical-align: middle;\n",
       "    }\n",
       "\n",
       "    .dataframe tbody tr th {\n",
       "        vertical-align: top;\n",
       "    }\n",
       "\n",
       "    .dataframe thead th {\n",
       "        text-align: right;\n",
       "    }\n",
       "</style>\n",
       "<table border=\"1\" class=\"dataframe\">\n",
       "  <thead>\n",
       "    <tr style=\"text-align: right;\">\n",
       "      <th></th>\n",
       "      <th>TimeOUT</th>\n",
       "      <th>UniqueID</th>\n",
       "      <th>OPD_fees</th>\n",
       "      <th>Medicine</th>\n",
       "      <th>Surgery_fees</th>\n",
       "    </tr>\n",
       "  </thead>\n",
       "  <tbody>\n",
       "    <tr>\n",
       "      <th>0</th>\n",
       "      <td>01-10-2021 09:41</td>\n",
       "      <td>210101005.0</td>\n",
       "      <td>No</td>\n",
       "      <td>NaN</td>\n",
       "      <td>NaN</td>\n",
       "    </tr>\n",
       "    <tr>\n",
       "      <th>1</th>\n",
       "      <td>19-09-2021 23:24</td>\n",
       "      <td>210830001.0</td>\n",
       "      <td>100</td>\n",
       "      <td>960.0</td>\n",
       "      <td>0.0</td>\n",
       "    </tr>\n",
       "    <tr>\n",
       "      <th>2</th>\n",
       "      <td>30-09-2021 16:17</td>\n",
       "      <td>210910001.0</td>\n",
       "      <td>No</td>\n",
       "      <td>170.0</td>\n",
       "      <td>NaN</td>\n",
       "    </tr>\n",
       "    <tr>\n",
       "      <th>3</th>\n",
       "      <td>23-09-2021 11:48</td>\n",
       "      <td>210913020.0</td>\n",
       "      <td>100</td>\n",
       "      <td>620.0</td>\n",
       "      <td>NaN</td>\n",
       "    </tr>\n",
       "    <tr>\n",
       "      <th>4</th>\n",
       "      <td>22-09-2021 09:51</td>\n",
       "      <td>210921001.0</td>\n",
       "      <td>100</td>\n",
       "      <td>1290.0</td>\n",
       "      <td>NaN</td>\n",
       "    </tr>\n",
       "    <tr>\n",
       "      <th>5</th>\n",
       "      <td>22-09-2021 09:56</td>\n",
       "      <td>210921002.0</td>\n",
       "      <td>100</td>\n",
       "      <td>1190.0</td>\n",
       "      <td>NaN</td>\n",
       "    </tr>\n",
       "    <tr>\n",
       "      <th>6</th>\n",
       "      <td>21-09-2021 10:55</td>\n",
       "      <td>210921006.0</td>\n",
       "      <td>100</td>\n",
       "      <td>1520.0</td>\n",
       "      <td>NaN</td>\n",
       "    </tr>\n",
       "    <tr>\n",
       "      <th>7</th>\n",
       "      <td>21-09-2021 11:11</td>\n",
       "      <td>210921007.0</td>\n",
       "      <td>100</td>\n",
       "      <td>270.0</td>\n",
       "      <td>NaN</td>\n",
       "    </tr>\n",
       "    <tr>\n",
       "      <th>8</th>\n",
       "      <td>21-09-2021 11:28</td>\n",
       "      <td>210921008.0</td>\n",
       "      <td>100</td>\n",
       "      <td>490.0</td>\n",
       "      <td>NaN</td>\n",
       "    </tr>\n",
       "    <tr>\n",
       "      <th>9</th>\n",
       "      <td>21-09-2021 11:31</td>\n",
       "      <td>210921009.0</td>\n",
       "      <td>100</td>\n",
       "      <td>280.0</td>\n",
       "      <td>NaN</td>\n",
       "    </tr>\n",
       "  </tbody>\n",
       "</table>\n",
       "</div>"
      ],
      "text/plain": [
       "            TimeOUT     UniqueID OPD_fees  Medicine  Surgery_fees\n",
       "0  01-10-2021 09:41  210101005.0       No       NaN           NaN\n",
       "1  19-09-2021 23:24  210830001.0      100     960.0           0.0\n",
       "2  30-09-2021 16:17  210910001.0       No     170.0           NaN\n",
       "3  23-09-2021 11:48  210913020.0      100     620.0           NaN\n",
       "4  22-09-2021 09:51  210921001.0      100    1290.0           NaN\n",
       "5  22-09-2021 09:56  210921002.0      100    1190.0           NaN\n",
       "6  21-09-2021 10:55  210921006.0      100    1520.0           NaN\n",
       "7  21-09-2021 11:11  210921007.0      100     270.0           NaN\n",
       "8  21-09-2021 11:28  210921008.0      100     490.0           NaN\n",
       "9  21-09-2021 11:31  210921009.0      100     280.0           NaN"
      ]
     },
     "execution_count": 3,
     "metadata": {},
     "output_type": "execute_result"
    }
   ],
   "source": [
    "dfbill.head(10)"
   ]
  },
  {
   "cell_type": "code",
   "execution_count": 4,
   "id": "1de36fb2",
   "metadata": {},
   "outputs": [
    {
     "data": {
      "text/plain": [
       "TimeOUT            6\n",
       "UniqueID           9\n",
       "OPD_fees           6\n",
       "Medicine          65\n",
       "Surgery_fees    2925\n",
       "dtype: int64"
      ]
     },
     "execution_count": 4,
     "metadata": {},
     "output_type": "execute_result"
    }
   ],
   "source": [
    "dfbill.isnull().sum()"
   ]
  },
  {
   "cell_type": "code",
   "execution_count": 5,
   "id": "5053f1de",
   "metadata": {},
   "outputs": [],
   "source": [
    "dfrec=pd.read_csv(r\"D:\\DS\\Doctor\\rec.csv\")"
   ]
  },
  {
   "cell_type": "code",
   "execution_count": 6,
   "id": "5d5443fe",
   "metadata": {},
   "outputs": [
    {
     "data": {
      "text/html": [
       "<div>\n",
       "<style scoped>\n",
       "    .dataframe tbody tr th:only-of-type {\n",
       "        vertical-align: middle;\n",
       "    }\n",
       "\n",
       "    .dataframe tbody tr th {\n",
       "        vertical-align: top;\n",
       "    }\n",
       "\n",
       "    .dataframe thead th {\n",
       "        text-align: right;\n",
       "    }\n",
       "</style>\n",
       "<table border=\"1\" class=\"dataframe\">\n",
       "  <thead>\n",
       "    <tr style=\"text-align: right;\">\n",
       "      <th></th>\n",
       "      <th>TimeIN</th>\n",
       "      <th>UniqueID</th>\n",
       "      <th>Type</th>\n",
       "      <th>Visit</th>\n",
       "      <th>Age</th>\n",
       "      <th>Address</th>\n",
       "      <th>Gender</th>\n",
       "      <th>Doctor</th>\n",
       "      <th>Reference</th>\n",
       "      <th>Attendant</th>\n",
       "    </tr>\n",
       "  </thead>\n",
       "  <tbody>\n",
       "    <tr>\n",
       "      <th>0</th>\n",
       "      <td>19-09-2021 23:20</td>\n",
       "      <td>210830010.0</td>\n",
       "      <td>New</td>\n",
       "      <td>2</td>\n",
       "      <td>70</td>\n",
       "      <td>pithara</td>\n",
       "      <td>Male</td>\n",
       "      <td>Dr. Mamta singh</td>\n",
       "      <td>Poster/Pamplet</td>\n",
       "      <td>Lakshmi</td>\n",
       "    </tr>\n",
       "    <tr>\n",
       "      <th>1</th>\n",
       "      <td>30-09-2021 16:15</td>\n",
       "      <td>210901001.0</td>\n",
       "      <td>Old</td>\n",
       "      <td>2</td>\n",
       "      <td>49</td>\n",
       "      <td>Tosgav</td>\n",
       "      <td>Male</td>\n",
       "      <td>Pharmacy</td>\n",
       "      <td>Patient</td>\n",
       "      <td>Neha</td>\n",
       "    </tr>\n",
       "    <tr>\n",
       "      <th>2</th>\n",
       "      <td>29-09-2021 11:29</td>\n",
       "      <td>210919016.0</td>\n",
       "      <td>New</td>\n",
       "      <td>1</td>\n",
       "      <td>26</td>\n",
       "      <td>Arjunda</td>\n",
       "      <td>Female</td>\n",
       "      <td>Dr. Mamta singh</td>\n",
       "      <td>Social Media</td>\n",
       "      <td>Bandani</td>\n",
       "    </tr>\n",
       "    <tr>\n",
       "      <th>3</th>\n",
       "      <td>21-09-2021 09:17</td>\n",
       "      <td>210921001.0</td>\n",
       "      <td>Old</td>\n",
       "      <td>2</td>\n",
       "      <td>20</td>\n",
       "      <td>Spl</td>\n",
       "      <td>Female</td>\n",
       "      <td>Dr. Mamta singh</td>\n",
       "      <td>Painting</td>\n",
       "      <td>Bandani</td>\n",
       "    </tr>\n",
       "    <tr>\n",
       "      <th>4</th>\n",
       "      <td>21-09-2021 10:06</td>\n",
       "      <td>210921001.0</td>\n",
       "      <td>Old</td>\n",
       "      <td>2</td>\n",
       "      <td>50</td>\n",
       "      <td>Semliya</td>\n",
       "      <td>Female</td>\n",
       "      <td>Dr. Mamta singh</td>\n",
       "      <td>Patient</td>\n",
       "      <td>Rakhi</td>\n",
       "    </tr>\n",
       "    <tr>\n",
       "      <th>5</th>\n",
       "      <td>22-09-2021 09:32</td>\n",
       "      <td>210921001.0</td>\n",
       "      <td>Old</td>\n",
       "      <td>2</td>\n",
       "      <td>62</td>\n",
       "      <td>Saraipali</td>\n",
       "      <td>Male</td>\n",
       "      <td>Dr. Mamta singh</td>\n",
       "      <td>Patient</td>\n",
       "      <td>Ragini</td>\n",
       "    </tr>\n",
       "    <tr>\n",
       "      <th>6</th>\n",
       "      <td>27-09-2021 09:01</td>\n",
       "      <td>210921001.0</td>\n",
       "      <td>New</td>\n",
       "      <td>NaN</td>\n",
       "      <td>26</td>\n",
       "      <td>benta chowk</td>\n",
       "      <td>Male</td>\n",
       "      <td>Dr. Mamta singh</td>\n",
       "      <td>Patient</td>\n",
       "      <td>Jyoti</td>\n",
       "    </tr>\n",
       "    <tr>\n",
       "      <th>7</th>\n",
       "      <td>21-09-2021 10:07</td>\n",
       "      <td>210921002.0</td>\n",
       "      <td>Old</td>\n",
       "      <td>4</td>\n",
       "      <td>20</td>\n",
       "      <td>Saraipali</td>\n",
       "      <td>Female</td>\n",
       "      <td>Dr. Mamta singh</td>\n",
       "      <td>Patient</td>\n",
       "      <td>Lakshmi</td>\n",
       "    </tr>\n",
       "    <tr>\n",
       "      <th>8</th>\n",
       "      <td>22-09-2021 09:39</td>\n",
       "      <td>210921002.0</td>\n",
       "      <td>Old</td>\n",
       "      <td>2</td>\n",
       "      <td>65</td>\n",
       "      <td>Bhutiya</td>\n",
       "      <td>Male</td>\n",
       "      <td>Dr. Mamta singh</td>\n",
       "      <td>Patient</td>\n",
       "      <td>Rakhi</td>\n",
       "    </tr>\n",
       "    <tr>\n",
       "      <th>9</th>\n",
       "      <td>21-09-2021 10:10</td>\n",
       "      <td>210921003.0</td>\n",
       "      <td>Old</td>\n",
       "      <td>2</td>\n",
       "      <td>36</td>\n",
       "      <td>Toresiha</td>\n",
       "      <td>Female</td>\n",
       "      <td>Dr. Mamta singh</td>\n",
       "      <td>Patient</td>\n",
       "      <td>Nilam</td>\n",
       "    </tr>\n",
       "  </tbody>\n",
       "</table>\n",
       "</div>"
      ],
      "text/plain": [
       "             TimeIN     UniqueID Type Visit Age      Address  Gender  \\\n",
       "0  19-09-2021 23:20  210830010.0  New     2  70      pithara    Male   \n",
       "1  30-09-2021 16:15  210901001.0  Old     2  49       Tosgav    Male   \n",
       "2  29-09-2021 11:29  210919016.0  New     1  26      Arjunda  Female   \n",
       "3  21-09-2021 09:17  210921001.0  Old     2  20          Spl  Female   \n",
       "4  21-09-2021 10:06  210921001.0  Old     2  50      Semliya  Female   \n",
       "5  22-09-2021 09:32  210921001.0  Old     2  62    Saraipali    Male   \n",
       "6  27-09-2021 09:01  210921001.0  New   NaN  26  benta chowk    Male   \n",
       "7  21-09-2021 10:07  210921002.0  Old     4  20    Saraipali  Female   \n",
       "8  22-09-2021 09:39  210921002.0  Old     2  65      Bhutiya    Male   \n",
       "9  21-09-2021 10:10  210921003.0  Old     2  36     Toresiha  Female   \n",
       "\n",
       "            Doctor       Reference Attendant  \n",
       "0  Dr. Mamta singh  Poster/Pamplet   Lakshmi  \n",
       "1         Pharmacy         Patient      Neha  \n",
       "2  Dr. Mamta singh    Social Media   Bandani  \n",
       "3  Dr. Mamta singh        Painting   Bandani  \n",
       "4  Dr. Mamta singh         Patient     Rakhi  \n",
       "5  Dr. Mamta singh         Patient    Ragini  \n",
       "6  Dr. Mamta singh         Patient     Jyoti  \n",
       "7  Dr. Mamta singh         Patient   Lakshmi  \n",
       "8  Dr. Mamta singh         Patient     Rakhi  \n",
       "9  Dr. Mamta singh         Patient     Nilam  "
      ]
     },
     "execution_count": 6,
     "metadata": {},
     "output_type": "execute_result"
    }
   ],
   "source": [
    "dfrec.head(10)"
   ]
  },
  {
   "cell_type": "code",
   "execution_count": 7,
   "id": "f2044b21",
   "metadata": {},
   "outputs": [],
   "source": [
    "dfjoin = pd.merge(dfrec, \n",
    "                      dfbill,\n",
    "                      on ='UniqueID', \n",
    "                      how ='outer')"
   ]
  },
  {
   "cell_type": "code",
   "execution_count": 8,
   "id": "d81dc5b9",
   "metadata": {},
   "outputs": [
    {
     "data": {
      "text/html": [
       "<div>\n",
       "<style scoped>\n",
       "    .dataframe tbody tr th:only-of-type {\n",
       "        vertical-align: middle;\n",
       "    }\n",
       "\n",
       "    .dataframe tbody tr th {\n",
       "        vertical-align: top;\n",
       "    }\n",
       "\n",
       "    .dataframe thead th {\n",
       "        text-align: right;\n",
       "    }\n",
       "</style>\n",
       "<table border=\"1\" class=\"dataframe\">\n",
       "  <thead>\n",
       "    <tr style=\"text-align: right;\">\n",
       "      <th></th>\n",
       "      <th>TimeIN</th>\n",
       "      <th>UniqueID</th>\n",
       "      <th>Type</th>\n",
       "      <th>Visit</th>\n",
       "      <th>Age</th>\n",
       "      <th>Address</th>\n",
       "      <th>Gender</th>\n",
       "      <th>Doctor</th>\n",
       "      <th>Reference</th>\n",
       "      <th>Attendant</th>\n",
       "      <th>TimeOUT</th>\n",
       "      <th>OPD_fees</th>\n",
       "      <th>Medicine</th>\n",
       "      <th>Surgery_fees</th>\n",
       "    </tr>\n",
       "  </thead>\n",
       "  <tbody>\n",
       "    <tr>\n",
       "      <th>0</th>\n",
       "      <td>19-09-2021 23:20</td>\n",
       "      <td>210830010.0</td>\n",
       "      <td>New</td>\n",
       "      <td>2</td>\n",
       "      <td>70</td>\n",
       "      <td>pithara</td>\n",
       "      <td>Male</td>\n",
       "      <td>Dr. Mamta singh</td>\n",
       "      <td>Poster/Pamplet</td>\n",
       "      <td>Lakshmi</td>\n",
       "      <td>NaN</td>\n",
       "      <td>NaN</td>\n",
       "      <td>NaN</td>\n",
       "      <td>NaN</td>\n",
       "    </tr>\n",
       "    <tr>\n",
       "      <th>1</th>\n",
       "      <td>30-09-2021 16:15</td>\n",
       "      <td>210901001.0</td>\n",
       "      <td>Old</td>\n",
       "      <td>2</td>\n",
       "      <td>49</td>\n",
       "      <td>Tosgav</td>\n",
       "      <td>Male</td>\n",
       "      <td>Pharmacy</td>\n",
       "      <td>Patient</td>\n",
       "      <td>Neha</td>\n",
       "      <td>NaN</td>\n",
       "      <td>NaN</td>\n",
       "      <td>NaN</td>\n",
       "      <td>NaN</td>\n",
       "    </tr>\n",
       "    <tr>\n",
       "      <th>2</th>\n",
       "      <td>29-09-2021 11:29</td>\n",
       "      <td>210919016.0</td>\n",
       "      <td>New</td>\n",
       "      <td>1</td>\n",
       "      <td>26</td>\n",
       "      <td>Arjunda</td>\n",
       "      <td>Female</td>\n",
       "      <td>Dr. Mamta singh</td>\n",
       "      <td>Social Media</td>\n",
       "      <td>Bandani</td>\n",
       "      <td>NaN</td>\n",
       "      <td>NaN</td>\n",
       "      <td>NaN</td>\n",
       "      <td>NaN</td>\n",
       "    </tr>\n",
       "    <tr>\n",
       "      <th>3</th>\n",
       "      <td>21-09-2021 09:17</td>\n",
       "      <td>210921001.0</td>\n",
       "      <td>Old</td>\n",
       "      <td>2</td>\n",
       "      <td>20</td>\n",
       "      <td>Spl</td>\n",
       "      <td>Female</td>\n",
       "      <td>Dr. Mamta singh</td>\n",
       "      <td>Painting</td>\n",
       "      <td>Bandani</td>\n",
       "      <td>22-09-2021 09:51</td>\n",
       "      <td>100</td>\n",
       "      <td>1290.0</td>\n",
       "      <td>NaN</td>\n",
       "    </tr>\n",
       "    <tr>\n",
       "      <th>4</th>\n",
       "      <td>21-09-2021 10:06</td>\n",
       "      <td>210921001.0</td>\n",
       "      <td>Old</td>\n",
       "      <td>2</td>\n",
       "      <td>50</td>\n",
       "      <td>Semliya</td>\n",
       "      <td>Female</td>\n",
       "      <td>Dr. Mamta singh</td>\n",
       "      <td>Patient</td>\n",
       "      <td>Rakhi</td>\n",
       "      <td>22-09-2021 09:51</td>\n",
       "      <td>100</td>\n",
       "      <td>1290.0</td>\n",
       "      <td>NaN</td>\n",
       "    </tr>\n",
       "    <tr>\n",
       "      <th>5</th>\n",
       "      <td>22-09-2021 09:32</td>\n",
       "      <td>210921001.0</td>\n",
       "      <td>Old</td>\n",
       "      <td>2</td>\n",
       "      <td>62</td>\n",
       "      <td>Saraipali</td>\n",
       "      <td>Male</td>\n",
       "      <td>Dr. Mamta singh</td>\n",
       "      <td>Patient</td>\n",
       "      <td>Ragini</td>\n",
       "      <td>22-09-2021 09:51</td>\n",
       "      <td>100</td>\n",
       "      <td>1290.0</td>\n",
       "      <td>NaN</td>\n",
       "    </tr>\n",
       "    <tr>\n",
       "      <th>6</th>\n",
       "      <td>27-09-2021 09:01</td>\n",
       "      <td>210921001.0</td>\n",
       "      <td>New</td>\n",
       "      <td>NaN</td>\n",
       "      <td>26</td>\n",
       "      <td>benta chowk</td>\n",
       "      <td>Male</td>\n",
       "      <td>Dr. Mamta singh</td>\n",
       "      <td>Patient</td>\n",
       "      <td>Jyoti</td>\n",
       "      <td>22-09-2021 09:51</td>\n",
       "      <td>100</td>\n",
       "      <td>1290.0</td>\n",
       "      <td>NaN</td>\n",
       "    </tr>\n",
       "    <tr>\n",
       "      <th>7</th>\n",
       "      <td>21-09-2021 10:07</td>\n",
       "      <td>210921002.0</td>\n",
       "      <td>Old</td>\n",
       "      <td>4</td>\n",
       "      <td>20</td>\n",
       "      <td>Saraipali</td>\n",
       "      <td>Female</td>\n",
       "      <td>Dr. Mamta singh</td>\n",
       "      <td>Patient</td>\n",
       "      <td>Lakshmi</td>\n",
       "      <td>22-09-2021 09:56</td>\n",
       "      <td>100</td>\n",
       "      <td>1190.0</td>\n",
       "      <td>NaN</td>\n",
       "    </tr>\n",
       "    <tr>\n",
       "      <th>8</th>\n",
       "      <td>22-09-2021 09:39</td>\n",
       "      <td>210921002.0</td>\n",
       "      <td>Old</td>\n",
       "      <td>2</td>\n",
       "      <td>65</td>\n",
       "      <td>Bhutiya</td>\n",
       "      <td>Male</td>\n",
       "      <td>Dr. Mamta singh</td>\n",
       "      <td>Patient</td>\n",
       "      <td>Rakhi</td>\n",
       "      <td>22-09-2021 09:56</td>\n",
       "      <td>100</td>\n",
       "      <td>1190.0</td>\n",
       "      <td>NaN</td>\n",
       "    </tr>\n",
       "    <tr>\n",
       "      <th>9</th>\n",
       "      <td>21-09-2021 10:10</td>\n",
       "      <td>210921003.0</td>\n",
       "      <td>Old</td>\n",
       "      <td>2</td>\n",
       "      <td>36</td>\n",
       "      <td>Toresiha</td>\n",
       "      <td>Female</td>\n",
       "      <td>Dr. Mamta singh</td>\n",
       "      <td>Patient</td>\n",
       "      <td>Nilam</td>\n",
       "      <td>NaN</td>\n",
       "      <td>NaN</td>\n",
       "      <td>NaN</td>\n",
       "      <td>NaN</td>\n",
       "    </tr>\n",
       "  </tbody>\n",
       "</table>\n",
       "</div>"
      ],
      "text/plain": [
       "             TimeIN     UniqueID Type Visit Age      Address  Gender  \\\n",
       "0  19-09-2021 23:20  210830010.0  New     2  70      pithara    Male   \n",
       "1  30-09-2021 16:15  210901001.0  Old     2  49       Tosgav    Male   \n",
       "2  29-09-2021 11:29  210919016.0  New     1  26      Arjunda  Female   \n",
       "3  21-09-2021 09:17  210921001.0  Old     2  20          Spl  Female   \n",
       "4  21-09-2021 10:06  210921001.0  Old     2  50      Semliya  Female   \n",
       "5  22-09-2021 09:32  210921001.0  Old     2  62    Saraipali    Male   \n",
       "6  27-09-2021 09:01  210921001.0  New   NaN  26  benta chowk    Male   \n",
       "7  21-09-2021 10:07  210921002.0  Old     4  20    Saraipali  Female   \n",
       "8  22-09-2021 09:39  210921002.0  Old     2  65      Bhutiya    Male   \n",
       "9  21-09-2021 10:10  210921003.0  Old     2  36     Toresiha  Female   \n",
       "\n",
       "            Doctor       Reference Attendant           TimeOUT OPD_fees  \\\n",
       "0  Dr. Mamta singh  Poster/Pamplet   Lakshmi               NaN      NaN   \n",
       "1         Pharmacy         Patient      Neha               NaN      NaN   \n",
       "2  Dr. Mamta singh    Social Media   Bandani               NaN      NaN   \n",
       "3  Dr. Mamta singh        Painting   Bandani  22-09-2021 09:51      100   \n",
       "4  Dr. Mamta singh         Patient     Rakhi  22-09-2021 09:51      100   \n",
       "5  Dr. Mamta singh         Patient    Ragini  22-09-2021 09:51      100   \n",
       "6  Dr. Mamta singh         Patient     Jyoti  22-09-2021 09:51      100   \n",
       "7  Dr. Mamta singh         Patient   Lakshmi  22-09-2021 09:56      100   \n",
       "8  Dr. Mamta singh         Patient     Rakhi  22-09-2021 09:56      100   \n",
       "9  Dr. Mamta singh         Patient     Nilam               NaN      NaN   \n",
       "\n",
       "   Medicine  Surgery_fees  \n",
       "0       NaN           NaN  \n",
       "1       NaN           NaN  \n",
       "2       NaN           NaN  \n",
       "3    1290.0           NaN  \n",
       "4    1290.0           NaN  \n",
       "5    1290.0           NaN  \n",
       "6    1290.0           NaN  \n",
       "7    1190.0           NaN  \n",
       "8    1190.0           NaN  \n",
       "9       NaN           NaN  "
      ]
     },
     "execution_count": 8,
     "metadata": {},
     "output_type": "execute_result"
    }
   ],
   "source": [
    "dfjoin.head(10)"
   ]
  },
  {
   "cell_type": "code",
   "execution_count": 9,
   "id": "04598b4f",
   "metadata": {},
   "outputs": [
    {
     "data": {
      "text/plain": [
       "(3615, 14)"
      ]
     },
     "execution_count": 9,
     "metadata": {},
     "output_type": "execute_result"
    }
   ],
   "source": [
    "dfjoin.shape\n"
   ]
  },
  {
   "cell_type": "code",
   "execution_count": 10,
   "id": "4259c825",
   "metadata": {},
   "outputs": [
    {
     "data": {
      "text/plain": [
       "array([nan, '100', 'No', '300'], dtype=object)"
      ]
     },
     "execution_count": 10,
     "metadata": {},
     "output_type": "execute_result"
    }
   ],
   "source": [
    "dfjoin['OPD_fees'].unique()"
   ]
  },
  {
   "cell_type": "code",
   "execution_count": 11,
   "id": "f72e2794",
   "metadata": {},
   "outputs": [],
   "source": [
    "dfjoin['OPD_fees'].replace(\"No\",0,inplace=True)\n",
    "\n"
   ]
  },
  {
   "cell_type": "code",
   "execution_count": 114,
   "id": "88edf542",
   "metadata": {},
   "outputs": [],
   "source": [
    "dfjoin['OPD_fees'].replace(np.NaN,0,inplace=True)\n",
    "dfjoin['Medicine'].replace(np.NaN,0,inplace=True)\n",
    "dfjoin['Surgery_fees'].replace(np.NaN,0,inplace=True)"
   ]
  },
  {
   "cell_type": "code",
   "execution_count": 13,
   "id": "4db7295a",
   "metadata": {},
   "outputs": [
    {
     "data": {
      "text/plain": [
       "array([0, '100', '300'], dtype=object)"
      ]
     },
     "execution_count": 13,
     "metadata": {},
     "output_type": "execute_result"
    }
   ],
   "source": [
    "dfjoin['OPD_fees'].unique()"
   ]
  },
  {
   "cell_type": "code",
   "execution_count": 64,
   "id": "dba9ee4a",
   "metadata": {},
   "outputs": [],
   "source": [
    "dfjoin['OPD_fees']=dfjoin['OPD_fees'].astype(float)"
   ]
  },
  {
   "cell_type": "code",
   "execution_count": 15,
   "id": "8e19546e",
   "metadata": {},
   "outputs": [],
   "source": [
    "dfjoin['TimeIN']= pd.to_datetime(dfjoin['TimeIN'])\n",
    "dfjoin['TimeOUT']= pd.to_datetime(dfjoin['TimeOUT'])"
   ]
  },
  {
   "cell_type": "code",
   "execution_count": 16,
   "id": "df2c9850",
   "metadata": {},
   "outputs": [
    {
     "data": {
      "text/plain": [
       "TimeIN          datetime64[ns]\n",
       "UniqueID               float64\n",
       "Type                    object\n",
       "Visit                   object\n",
       "Age                     object\n",
       "Address                 object\n",
       "Gender                  object\n",
       "Doctor                  object\n",
       "Reference               object\n",
       "Attendant               object\n",
       "TimeOUT         datetime64[ns]\n",
       "OPD_fees                 int32\n",
       "Medicine               float64\n",
       "Surgery_fees           float64\n",
       "dtype: object"
      ]
     },
     "execution_count": 16,
     "metadata": {},
     "output_type": "execute_result"
    }
   ],
   "source": [
    "dfjoin.dtypes"
   ]
  },
  {
   "cell_type": "code",
   "execution_count": 17,
   "id": "c385bd3e",
   "metadata": {},
   "outputs": [
    {
     "data": {
      "text/plain": [
       "array(['70', '49', '26', '20', '50', '62', '65', '36', '19', '10', '40',\n",
       "       '63', '60', '24', '27', '55', '23', '13', '68', '28', '33', '38',\n",
       "       '22', '56', '35', '32', '34', '18', '30', '58', '3', '39', '48',\n",
       "       '45', '17', '14', '41', '21', '10 month', '8', '6', '15', '79',\n",
       "       '53', '31', '29', '9 month', '76', '51', '42', '44', '37', '16',\n",
       "       '66', '64', '25', '46', '4 month', '12', '74', '61', '4', '2', nan,\n",
       "       '7', '78', '11', '43', '52', '69', '67', '1', '54', '71', '9',\n",
       "       '47', '5', '75', '59', '57', '72', '80', '73', '83'], dtype=object)"
      ]
     },
     "execution_count": 17,
     "metadata": {},
     "output_type": "execute_result"
    }
   ],
   "source": [
    "dfjoin['Age'].unique()"
   ]
  },
  {
   "cell_type": "code",
   "execution_count": 18,
   "id": "bf5234ec",
   "metadata": {},
   "outputs": [],
   "source": [
    "dfjoin['Age'].replace('10 month',0.83,inplace=True)\n",
    "dfjoin['Age'].replace('9 month',0.75,inplace=True)\n",
    "dfjoin['Age'].replace('4 month',0.33,inplace=True)\n",
    "dfjoin['Age'].replace(np.NaN,0,inplace=True)"
   ]
  },
  {
   "cell_type": "code",
   "execution_count": 19,
   "id": "f0c3918b",
   "metadata": {},
   "outputs": [
    {
     "data": {
      "text/plain": [
       "array(['70', '49', '26', '20', '50', '62', '65', '36', '19', '10', '40',\n",
       "       '63', '60', '24', '27', '55', '23', '13', '68', '28', '33', '38',\n",
       "       '22', '56', '35', '32', '34', '18', '30', '58', '3', '39', '48',\n",
       "       '45', '17', '14', '41', '21', 0.83, '8', '6', '15', '79', '53',\n",
       "       '31', '29', 0.75, '76', '51', '42', '44', '37', '16', '66', '64',\n",
       "       '25', '46', 0.33, '12', '74', '61', '4', '2', 0, '7', '78', '11',\n",
       "       '43', '52', '69', '67', '1', '54', '71', '9', '47', '5', '75',\n",
       "       '59', '57', '72', '80', '73', '83'], dtype=object)"
      ]
     },
     "execution_count": 19,
     "metadata": {},
     "output_type": "execute_result"
    }
   ],
   "source": [
    "dfjoin['Age'].unique()\n"
   ]
  },
  {
   "cell_type": "code",
   "execution_count": 20,
   "id": "3f2a75f8",
   "metadata": {},
   "outputs": [],
   "source": [
    "dfjoin['Age']=dfjoin['Age'].astype(float)"
   ]
  },
  {
   "cell_type": "code",
   "execution_count": 21,
   "id": "7f560849",
   "metadata": {},
   "outputs": [
    {
     "data": {
      "text/plain": [
       "TimeIN          datetime64[ns]\n",
       "UniqueID               float64\n",
       "Type                    object\n",
       "Visit                   object\n",
       "Age                    float64\n",
       "Address                 object\n",
       "Gender                  object\n",
       "Doctor                  object\n",
       "Reference               object\n",
       "Attendant               object\n",
       "TimeOUT         datetime64[ns]\n",
       "OPD_fees                 int32\n",
       "Medicine               float64\n",
       "Surgery_fees           float64\n",
       "dtype: object"
      ]
     },
     "execution_count": 21,
     "metadata": {},
     "output_type": "execute_result"
    }
   ],
   "source": [
    "dfjoin.dtypes"
   ]
  },
  {
   "cell_type": "code",
   "execution_count": 22,
   "id": "3a6038cc",
   "metadata": {},
   "outputs": [],
   "source": [
    "dfjoin['stay']=dfjoin['TimeOUT']-dfjoin['TimeIN']"
   ]
  },
  {
   "cell_type": "code",
   "execution_count": 23,
   "id": "30a83860",
   "metadata": {},
   "outputs": [
    {
     "data": {
      "text/plain": [
       "211126060.0    9\n",
       "211126050.0    6\n",
       "211201003.0    6\n",
       "211001004.0    6\n",
       "211201021.0    4\n",
       "              ..\n",
       "211105050.0    1\n",
       "211114038.0    1\n",
       "210926016.0    1\n",
       "210927013.0    1\n",
       "211214023.0    1\n",
       "Name: UniqueID, Length: 3161, dtype: int64"
      ]
     },
     "execution_count": 23,
     "metadata": {},
     "output_type": "execute_result"
    }
   ],
   "source": [
    "dfjoin['UniqueID'].value_counts()"
   ]
  },
  {
   "cell_type": "code",
   "execution_count": 24,
   "id": "c9f15aec",
   "metadata": {},
   "outputs": [],
   "source": [
    "dfjoin=dfjoin.drop_duplicates(subset=['UniqueID'],keep=False)"
   ]
  },
  {
   "cell_type": "code",
   "execution_count": 25,
   "id": "6aa0d8a6",
   "metadata": {},
   "outputs": [
    {
     "data": {
      "text/html": [
       "<div>\n",
       "<style scoped>\n",
       "    .dataframe tbody tr th:only-of-type {\n",
       "        vertical-align: middle;\n",
       "    }\n",
       "\n",
       "    .dataframe tbody tr th {\n",
       "        vertical-align: top;\n",
       "    }\n",
       "\n",
       "    .dataframe thead th {\n",
       "        text-align: right;\n",
       "    }\n",
       "</style>\n",
       "<table border=\"1\" class=\"dataframe\">\n",
       "  <thead>\n",
       "    <tr style=\"text-align: right;\">\n",
       "      <th></th>\n",
       "      <th>TimeIN</th>\n",
       "      <th>UniqueID</th>\n",
       "      <th>Type</th>\n",
       "      <th>Visit</th>\n",
       "      <th>Age</th>\n",
       "      <th>Address</th>\n",
       "      <th>Gender</th>\n",
       "      <th>Doctor</th>\n",
       "      <th>Reference</th>\n",
       "      <th>Attendant</th>\n",
       "      <th>TimeOUT</th>\n",
       "      <th>OPD_fees</th>\n",
       "      <th>Medicine</th>\n",
       "      <th>Surgery_fees</th>\n",
       "      <th>stay</th>\n",
       "    </tr>\n",
       "  </thead>\n",
       "  <tbody>\n",
       "    <tr>\n",
       "      <th>0</th>\n",
       "      <td>2021-09-19 23:20:00</td>\n",
       "      <td>210830010.0</td>\n",
       "      <td>New</td>\n",
       "      <td>2</td>\n",
       "      <td>70.0</td>\n",
       "      <td>pithara</td>\n",
       "      <td>Male</td>\n",
       "      <td>Dr. Mamta singh</td>\n",
       "      <td>Poster/Pamplet</td>\n",
       "      <td>Lakshmi</td>\n",
       "      <td>NaT</td>\n",
       "      <td>0</td>\n",
       "      <td>NaN</td>\n",
       "      <td>NaN</td>\n",
       "      <td>NaT</td>\n",
       "    </tr>\n",
       "    <tr>\n",
       "      <th>1</th>\n",
       "      <td>2021-09-30 16:15:00</td>\n",
       "      <td>210901001.0</td>\n",
       "      <td>Old</td>\n",
       "      <td>2</td>\n",
       "      <td>49.0</td>\n",
       "      <td>Tosgav</td>\n",
       "      <td>Male</td>\n",
       "      <td>Pharmacy</td>\n",
       "      <td>Patient</td>\n",
       "      <td>Neha</td>\n",
       "      <td>NaT</td>\n",
       "      <td>0</td>\n",
       "      <td>NaN</td>\n",
       "      <td>NaN</td>\n",
       "      <td>NaT</td>\n",
       "    </tr>\n",
       "    <tr>\n",
       "      <th>2</th>\n",
       "      <td>2021-09-29 11:29:00</td>\n",
       "      <td>210919016.0</td>\n",
       "      <td>New</td>\n",
       "      <td>1</td>\n",
       "      <td>26.0</td>\n",
       "      <td>Arjunda</td>\n",
       "      <td>Female</td>\n",
       "      <td>Dr. Mamta singh</td>\n",
       "      <td>Social Media</td>\n",
       "      <td>Bandani</td>\n",
       "      <td>NaT</td>\n",
       "      <td>0</td>\n",
       "      <td>NaN</td>\n",
       "      <td>NaN</td>\n",
       "      <td>NaT</td>\n",
       "    </tr>\n",
       "    <tr>\n",
       "      <th>19</th>\n",
       "      <td>2021-09-21 11:08:00</td>\n",
       "      <td>210921008.0</td>\n",
       "      <td>New</td>\n",
       "      <td>1</td>\n",
       "      <td>55.0</td>\n",
       "      <td>Pirda</td>\n",
       "      <td>Female</td>\n",
       "      <td>Dr. Mamta singh</td>\n",
       "      <td>Patient</td>\n",
       "      <td>Jyoti</td>\n",
       "      <td>2021-09-21 11:28:00</td>\n",
       "      <td>100</td>\n",
       "      <td>490.0</td>\n",
       "      <td>NaN</td>\n",
       "      <td>0 days 00:20:00</td>\n",
       "    </tr>\n",
       "    <tr>\n",
       "      <th>20</th>\n",
       "      <td>2021-09-21 11:10:00</td>\n",
       "      <td>210921009.0</td>\n",
       "      <td>Old</td>\n",
       "      <td>5</td>\n",
       "      <td>23.0</td>\n",
       "      <td>Basna</td>\n",
       "      <td>Male</td>\n",
       "      <td>Dr. Mamta singh</td>\n",
       "      <td>Patient</td>\n",
       "      <td>Neha</td>\n",
       "      <td>2021-09-21 11:31:00</td>\n",
       "      <td>100</td>\n",
       "      <td>280.0</td>\n",
       "      <td>NaN</td>\n",
       "      <td>0 days 00:21:00</td>\n",
       "    </tr>\n",
       "    <tr>\n",
       "      <th>21</th>\n",
       "      <td>2021-09-21 11:18:00</td>\n",
       "      <td>210921010.0</td>\n",
       "      <td>Old</td>\n",
       "      <td>5</td>\n",
       "      <td>13.0</td>\n",
       "      <td>Paranpali</td>\n",
       "      <td>Female</td>\n",
       "      <td>Dr. Mamta singh</td>\n",
       "      <td>Patient</td>\n",
       "      <td>Rakhi</td>\n",
       "      <td>2021-09-21 11:44:00</td>\n",
       "      <td>100</td>\n",
       "      <td>950.0</td>\n",
       "      <td>NaN</td>\n",
       "      <td>0 days 00:26:00</td>\n",
       "    </tr>\n",
       "    <tr>\n",
       "      <th>22</th>\n",
       "      <td>2021-09-21 11:24:00</td>\n",
       "      <td>210921011.0</td>\n",
       "      <td>New</td>\n",
       "      <td>1</td>\n",
       "      <td>24.0</td>\n",
       "      <td>Barihapali</td>\n",
       "      <td>Male</td>\n",
       "      <td>Dr. Mamta singh</td>\n",
       "      <td>Patient</td>\n",
       "      <td>Nilam</td>\n",
       "      <td>2021-09-21 11:42:00</td>\n",
       "      <td>100</td>\n",
       "      <td>340.0</td>\n",
       "      <td>NaN</td>\n",
       "      <td>0 days 00:18:00</td>\n",
       "    </tr>\n",
       "    <tr>\n",
       "      <th>23</th>\n",
       "      <td>2021-09-21 11:25:00</td>\n",
       "      <td>210921012.0</td>\n",
       "      <td>Old</td>\n",
       "      <td>5</td>\n",
       "      <td>68.0</td>\n",
       "      <td>Jagat</td>\n",
       "      <td>Female</td>\n",
       "      <td>Dr. Mamta singh</td>\n",
       "      <td>Patient</td>\n",
       "      <td>Jyoti</td>\n",
       "      <td>2021-09-21 12:17:00</td>\n",
       "      <td>100</td>\n",
       "      <td>1790.0</td>\n",
       "      <td>NaN</td>\n",
       "      <td>0 days 00:52:00</td>\n",
       "    </tr>\n",
       "    <tr>\n",
       "      <th>24</th>\n",
       "      <td>2021-09-21 11:34:00</td>\n",
       "      <td>210921013.0</td>\n",
       "      <td>New</td>\n",
       "      <td>1</td>\n",
       "      <td>28.0</td>\n",
       "      <td>Golajhar</td>\n",
       "      <td>Male</td>\n",
       "      <td>Dr. Mamta singh</td>\n",
       "      <td>Patient</td>\n",
       "      <td>Neha</td>\n",
       "      <td>2021-09-21 12:00:00</td>\n",
       "      <td>100</td>\n",
       "      <td>890.0</td>\n",
       "      <td>NaN</td>\n",
       "      <td>0 days 00:26:00</td>\n",
       "    </tr>\n",
       "    <tr>\n",
       "      <th>25</th>\n",
       "      <td>2021-09-21 11:41:00</td>\n",
       "      <td>210921014.0</td>\n",
       "      <td>New</td>\n",
       "      <td>1</td>\n",
       "      <td>23.0</td>\n",
       "      <td>Golajhar</td>\n",
       "      <td>Female</td>\n",
       "      <td>Dr. Mamta singh</td>\n",
       "      <td>Patient</td>\n",
       "      <td>Gaytri</td>\n",
       "      <td>2021-09-21 12:01:00</td>\n",
       "      <td>100</td>\n",
       "      <td>750.0</td>\n",
       "      <td>NaN</td>\n",
       "      <td>0 days 00:20:00</td>\n",
       "    </tr>\n",
       "  </tbody>\n",
       "</table>\n",
       "</div>"
      ],
      "text/plain": [
       "                TimeIN     UniqueID Type Visit   Age     Address  Gender  \\\n",
       "0  2021-09-19 23:20:00  210830010.0  New     2  70.0     pithara    Male   \n",
       "1  2021-09-30 16:15:00  210901001.0  Old     2  49.0      Tosgav    Male   \n",
       "2  2021-09-29 11:29:00  210919016.0  New     1  26.0     Arjunda  Female   \n",
       "19 2021-09-21 11:08:00  210921008.0  New     1  55.0       Pirda  Female   \n",
       "20 2021-09-21 11:10:00  210921009.0  Old     5  23.0       Basna    Male   \n",
       "21 2021-09-21 11:18:00  210921010.0  Old     5  13.0   Paranpali  Female   \n",
       "22 2021-09-21 11:24:00  210921011.0  New     1  24.0  Barihapali    Male   \n",
       "23 2021-09-21 11:25:00  210921012.0  Old     5  68.0       Jagat  Female   \n",
       "24 2021-09-21 11:34:00  210921013.0  New     1  28.0    Golajhar    Male   \n",
       "25 2021-09-21 11:41:00  210921014.0  New     1  23.0    Golajhar  Female   \n",
       "\n",
       "             Doctor       Reference Attendant             TimeOUT  OPD_fees  \\\n",
       "0   Dr. Mamta singh  Poster/Pamplet   Lakshmi                 NaT         0   \n",
       "1          Pharmacy         Patient      Neha                 NaT         0   \n",
       "2   Dr. Mamta singh    Social Media   Bandani                 NaT         0   \n",
       "19  Dr. Mamta singh         Patient     Jyoti 2021-09-21 11:28:00       100   \n",
       "20  Dr. Mamta singh         Patient      Neha 2021-09-21 11:31:00       100   \n",
       "21  Dr. Mamta singh         Patient     Rakhi 2021-09-21 11:44:00       100   \n",
       "22  Dr. Mamta singh         Patient     Nilam 2021-09-21 11:42:00       100   \n",
       "23  Dr. Mamta singh         Patient     Jyoti 2021-09-21 12:17:00       100   \n",
       "24  Dr. Mamta singh         Patient      Neha 2021-09-21 12:00:00       100   \n",
       "25  Dr. Mamta singh         Patient    Gaytri 2021-09-21 12:01:00       100   \n",
       "\n",
       "    Medicine  Surgery_fees            stay  \n",
       "0        NaN           NaN             NaT  \n",
       "1        NaN           NaN             NaT  \n",
       "2        NaN           NaN             NaT  \n",
       "19     490.0           NaN 0 days 00:20:00  \n",
       "20     280.0           NaN 0 days 00:21:00  \n",
       "21     950.0           NaN 0 days 00:26:00  \n",
       "22     340.0           NaN 0 days 00:18:00  \n",
       "23    1790.0           NaN 0 days 00:52:00  \n",
       "24     890.0           NaN 0 days 00:26:00  \n",
       "25     750.0           NaN 0 days 00:20:00  "
      ]
     },
     "execution_count": 25,
     "metadata": {},
     "output_type": "execute_result"
    }
   ],
   "source": [
    "dfjoin.head(10)"
   ]
  },
  {
   "cell_type": "code",
   "execution_count": 26,
   "id": "1862b542",
   "metadata": {},
   "outputs": [
    {
     "data": {
      "text/plain": [
       "(2945, 15)"
      ]
     },
     "execution_count": 26,
     "metadata": {},
     "output_type": "execute_result"
    }
   ],
   "source": [
    "dfjoin.shape"
   ]
  },
  {
   "cell_type": "code",
   "execution_count": 27,
   "id": "99ba4512",
   "metadata": {},
   "outputs": [
    {
     "data": {
      "text/plain": [
       "211129023.0    1\n",
       "211204023.0    1\n",
       "211108016.0    1\n",
       "211220026.0    1\n",
       "211205019.0    1\n",
       "              ..\n",
       "211231004.0    1\n",
       "211017029.0    1\n",
       "212022026.0    1\n",
       "211009029.0    1\n",
       "211207022.0    1\n",
       "Name: UniqueID, Length: 2945, dtype: int64"
      ]
     },
     "execution_count": 27,
     "metadata": {},
     "output_type": "execute_result"
    }
   ],
   "source": [
    "dfjoin['UniqueID'].value_counts()"
   ]
  },
  {
   "cell_type": "code",
   "execution_count": 28,
   "id": "24c983f5",
   "metadata": {},
   "outputs": [],
   "source": [
    "dfjoin['stay']=dfjoin['stay']/np.timedelta64(1,'m')"
   ]
  },
  {
   "cell_type": "code",
   "execution_count": 29,
   "id": "075c90c5",
   "metadata": {
    "scrolled": false
   },
   "outputs": [
    {
     "data": {
      "text/plain": [
       "19      20.0\n",
       "20      21.0\n",
       "21      26.0\n",
       "22      18.0\n",
       "23      52.0\n",
       "        ... \n",
       "3332   -69.0\n",
       "3333   -73.0\n",
       "3335   -91.0\n",
       "3339   -90.0\n",
       "3340   -59.0\n",
       "Name: stay, Length: 2363, dtype: float64"
      ]
     },
     "execution_count": 29,
     "metadata": {},
     "output_type": "execute_result"
    }
   ],
   "source": [
    "dfjoin['stay'].dropna()"
   ]
  },
  {
   "cell_type": "code",
   "execution_count": 30,
   "id": "fa626c0e",
   "metadata": {},
   "outputs": [
    {
     "data": {
      "text/plain": [
       "dtype('float64')"
      ]
     },
     "execution_count": 30,
     "metadata": {},
     "output_type": "execute_result"
    }
   ],
   "source": [
    "dfjoin['stay'].dtype"
   ]
  },
  {
   "cell_type": "code",
   "execution_count": 31,
   "id": "f05ccb38",
   "metadata": {},
   "outputs": [],
   "source": [
    "dfjoin.drop(dfjoin[dfjoin['stay'] > 180].index, inplace = True)"
   ]
  },
  {
   "cell_type": "code",
   "execution_count": 32,
   "id": "74c97640",
   "metadata": {},
   "outputs": [
    {
     "data": {
      "text/plain": [
       "(2907, 15)"
      ]
     },
     "execution_count": 32,
     "metadata": {},
     "output_type": "execute_result"
    }
   ],
   "source": [
    "dfjoin.shape\n"
   ]
  },
  {
   "cell_type": "code",
   "execution_count": 33,
   "id": "82ffb785",
   "metadata": {},
   "outputs": [
    {
     "data": {
      "text/html": [
       "<div>\n",
       "<style scoped>\n",
       "    .dataframe tbody tr th:only-of-type {\n",
       "        vertical-align: middle;\n",
       "    }\n",
       "\n",
       "    .dataframe tbody tr th {\n",
       "        vertical-align: top;\n",
       "    }\n",
       "\n",
       "    .dataframe thead th {\n",
       "        text-align: right;\n",
       "    }\n",
       "</style>\n",
       "<table border=\"1\" class=\"dataframe\">\n",
       "  <thead>\n",
       "    <tr style=\"text-align: right;\">\n",
       "      <th></th>\n",
       "      <th>TimeIN</th>\n",
       "      <th>UniqueID</th>\n",
       "      <th>Type</th>\n",
       "      <th>Visit</th>\n",
       "      <th>Age</th>\n",
       "      <th>Address</th>\n",
       "      <th>Gender</th>\n",
       "      <th>Doctor</th>\n",
       "      <th>Reference</th>\n",
       "      <th>Attendant</th>\n",
       "      <th>TimeOUT</th>\n",
       "      <th>OPD_fees</th>\n",
       "      <th>Medicine</th>\n",
       "      <th>Surgery_fees</th>\n",
       "      <th>stay</th>\n",
       "    </tr>\n",
       "  </thead>\n",
       "  <tbody>\n",
       "    <tr>\n",
       "      <th>0</th>\n",
       "      <td>2021-09-19 23:20:00</td>\n",
       "      <td>210830010.0</td>\n",
       "      <td>New</td>\n",
       "      <td>2</td>\n",
       "      <td>70.0</td>\n",
       "      <td>pithara</td>\n",
       "      <td>Male</td>\n",
       "      <td>Dr. Mamta singh</td>\n",
       "      <td>Poster/Pamplet</td>\n",
       "      <td>Lakshmi</td>\n",
       "      <td>NaT</td>\n",
       "      <td>0</td>\n",
       "      <td>NaN</td>\n",
       "      <td>NaN</td>\n",
       "      <td>NaN</td>\n",
       "    </tr>\n",
       "    <tr>\n",
       "      <th>1</th>\n",
       "      <td>2021-09-30 16:15:00</td>\n",
       "      <td>210901001.0</td>\n",
       "      <td>Old</td>\n",
       "      <td>2</td>\n",
       "      <td>49.0</td>\n",
       "      <td>Tosgav</td>\n",
       "      <td>Male</td>\n",
       "      <td>Pharmacy</td>\n",
       "      <td>Patient</td>\n",
       "      <td>Neha</td>\n",
       "      <td>NaT</td>\n",
       "      <td>0</td>\n",
       "      <td>NaN</td>\n",
       "      <td>NaN</td>\n",
       "      <td>NaN</td>\n",
       "    </tr>\n",
       "    <tr>\n",
       "      <th>2</th>\n",
       "      <td>2021-09-29 11:29:00</td>\n",
       "      <td>210919016.0</td>\n",
       "      <td>New</td>\n",
       "      <td>1</td>\n",
       "      <td>26.0</td>\n",
       "      <td>Arjunda</td>\n",
       "      <td>Female</td>\n",
       "      <td>Dr. Mamta singh</td>\n",
       "      <td>Social Media</td>\n",
       "      <td>Bandani</td>\n",
       "      <td>NaT</td>\n",
       "      <td>0</td>\n",
       "      <td>NaN</td>\n",
       "      <td>NaN</td>\n",
       "      <td>NaN</td>\n",
       "    </tr>\n",
       "    <tr>\n",
       "      <th>19</th>\n",
       "      <td>2021-09-21 11:08:00</td>\n",
       "      <td>210921008.0</td>\n",
       "      <td>New</td>\n",
       "      <td>1</td>\n",
       "      <td>55.0</td>\n",
       "      <td>Pirda</td>\n",
       "      <td>Female</td>\n",
       "      <td>Dr. Mamta singh</td>\n",
       "      <td>Patient</td>\n",
       "      <td>Jyoti</td>\n",
       "      <td>2021-09-21 11:28:00</td>\n",
       "      <td>100</td>\n",
       "      <td>490.0</td>\n",
       "      <td>NaN</td>\n",
       "      <td>20.0</td>\n",
       "    </tr>\n",
       "    <tr>\n",
       "      <th>20</th>\n",
       "      <td>2021-09-21 11:10:00</td>\n",
       "      <td>210921009.0</td>\n",
       "      <td>Old</td>\n",
       "      <td>5</td>\n",
       "      <td>23.0</td>\n",
       "      <td>Basna</td>\n",
       "      <td>Male</td>\n",
       "      <td>Dr. Mamta singh</td>\n",
       "      <td>Patient</td>\n",
       "      <td>Neha</td>\n",
       "      <td>2021-09-21 11:31:00</td>\n",
       "      <td>100</td>\n",
       "      <td>280.0</td>\n",
       "      <td>NaN</td>\n",
       "      <td>21.0</td>\n",
       "    </tr>\n",
       "    <tr>\n",
       "      <th>21</th>\n",
       "      <td>2021-09-21 11:18:00</td>\n",
       "      <td>210921010.0</td>\n",
       "      <td>Old</td>\n",
       "      <td>5</td>\n",
       "      <td>13.0</td>\n",
       "      <td>Paranpali</td>\n",
       "      <td>Female</td>\n",
       "      <td>Dr. Mamta singh</td>\n",
       "      <td>Patient</td>\n",
       "      <td>Rakhi</td>\n",
       "      <td>2021-09-21 11:44:00</td>\n",
       "      <td>100</td>\n",
       "      <td>950.0</td>\n",
       "      <td>NaN</td>\n",
       "      <td>26.0</td>\n",
       "    </tr>\n",
       "    <tr>\n",
       "      <th>22</th>\n",
       "      <td>2021-09-21 11:24:00</td>\n",
       "      <td>210921011.0</td>\n",
       "      <td>New</td>\n",
       "      <td>1</td>\n",
       "      <td>24.0</td>\n",
       "      <td>Barihapali</td>\n",
       "      <td>Male</td>\n",
       "      <td>Dr. Mamta singh</td>\n",
       "      <td>Patient</td>\n",
       "      <td>Nilam</td>\n",
       "      <td>2021-09-21 11:42:00</td>\n",
       "      <td>100</td>\n",
       "      <td>340.0</td>\n",
       "      <td>NaN</td>\n",
       "      <td>18.0</td>\n",
       "    </tr>\n",
       "    <tr>\n",
       "      <th>23</th>\n",
       "      <td>2021-09-21 11:25:00</td>\n",
       "      <td>210921012.0</td>\n",
       "      <td>Old</td>\n",
       "      <td>5</td>\n",
       "      <td>68.0</td>\n",
       "      <td>Jagat</td>\n",
       "      <td>Female</td>\n",
       "      <td>Dr. Mamta singh</td>\n",
       "      <td>Patient</td>\n",
       "      <td>Jyoti</td>\n",
       "      <td>2021-09-21 12:17:00</td>\n",
       "      <td>100</td>\n",
       "      <td>1790.0</td>\n",
       "      <td>NaN</td>\n",
       "      <td>52.0</td>\n",
       "    </tr>\n",
       "    <tr>\n",
       "      <th>24</th>\n",
       "      <td>2021-09-21 11:34:00</td>\n",
       "      <td>210921013.0</td>\n",
       "      <td>New</td>\n",
       "      <td>1</td>\n",
       "      <td>28.0</td>\n",
       "      <td>Golajhar</td>\n",
       "      <td>Male</td>\n",
       "      <td>Dr. Mamta singh</td>\n",
       "      <td>Patient</td>\n",
       "      <td>Neha</td>\n",
       "      <td>2021-09-21 12:00:00</td>\n",
       "      <td>100</td>\n",
       "      <td>890.0</td>\n",
       "      <td>NaN</td>\n",
       "      <td>26.0</td>\n",
       "    </tr>\n",
       "    <tr>\n",
       "      <th>25</th>\n",
       "      <td>2021-09-21 11:41:00</td>\n",
       "      <td>210921014.0</td>\n",
       "      <td>New</td>\n",
       "      <td>1</td>\n",
       "      <td>23.0</td>\n",
       "      <td>Golajhar</td>\n",
       "      <td>Female</td>\n",
       "      <td>Dr. Mamta singh</td>\n",
       "      <td>Patient</td>\n",
       "      <td>Gaytri</td>\n",
       "      <td>2021-09-21 12:01:00</td>\n",
       "      <td>100</td>\n",
       "      <td>750.0</td>\n",
       "      <td>NaN</td>\n",
       "      <td>20.0</td>\n",
       "    </tr>\n",
       "    <tr>\n",
       "      <th>26</th>\n",
       "      <td>2021-09-21 11:48:00</td>\n",
       "      <td>210921015.0</td>\n",
       "      <td>Old</td>\n",
       "      <td>1</td>\n",
       "      <td>27.0</td>\n",
       "      <td>Saraipali</td>\n",
       "      <td>Male</td>\n",
       "      <td>Dr. Mamta singh</td>\n",
       "      <td>Patient</td>\n",
       "      <td>Nilam</td>\n",
       "      <td>2021-09-21 12:12:00</td>\n",
       "      <td>100</td>\n",
       "      <td>570.0</td>\n",
       "      <td>NaN</td>\n",
       "      <td>24.0</td>\n",
       "    </tr>\n",
       "    <tr>\n",
       "      <th>27</th>\n",
       "      <td>2021-09-21 11:51:00</td>\n",
       "      <td>210921016.0</td>\n",
       "      <td>Old</td>\n",
       "      <td>1</td>\n",
       "      <td>33.0</td>\n",
       "      <td>Basna</td>\n",
       "      <td>Male</td>\n",
       "      <td>Dr. Mamta singh</td>\n",
       "      <td>Patient</td>\n",
       "      <td>Rakhi</td>\n",
       "      <td>2021-09-21 12:19:00</td>\n",
       "      <td>100</td>\n",
       "      <td>1100.0</td>\n",
       "      <td>NaN</td>\n",
       "      <td>28.0</td>\n",
       "    </tr>\n",
       "    <tr>\n",
       "      <th>28</th>\n",
       "      <td>2021-09-21 11:53:00</td>\n",
       "      <td>210921017.0</td>\n",
       "      <td>New</td>\n",
       "      <td>1</td>\n",
       "      <td>38.0</td>\n",
       "      <td>Basna</td>\n",
       "      <td>Female</td>\n",
       "      <td>Dr. Mamta singh</td>\n",
       "      <td>Patient</td>\n",
       "      <td>Jyoti</td>\n",
       "      <td>2021-09-21 12:23:00</td>\n",
       "      <td>100</td>\n",
       "      <td>1760.0</td>\n",
       "      <td>NaN</td>\n",
       "      <td>30.0</td>\n",
       "    </tr>\n",
       "    <tr>\n",
       "      <th>29</th>\n",
       "      <td>2021-09-21 12:02:00</td>\n",
       "      <td>210921018.0</td>\n",
       "      <td>New</td>\n",
       "      <td>1</td>\n",
       "      <td>22.0</td>\n",
       "      <td>Saraipali</td>\n",
       "      <td>Male</td>\n",
       "      <td>Dr. Mamta singh</td>\n",
       "      <td>Patient</td>\n",
       "      <td>Neha</td>\n",
       "      <td>2021-09-21 12:32:00</td>\n",
       "      <td>100</td>\n",
       "      <td>760.0</td>\n",
       "      <td>NaN</td>\n",
       "      <td>30.0</td>\n",
       "    </tr>\n",
       "    <tr>\n",
       "      <th>30</th>\n",
       "      <td>2021-09-21 12:07:00</td>\n",
       "      <td>210921019.0</td>\n",
       "      <td>Old</td>\n",
       "      <td>2</td>\n",
       "      <td>19.0</td>\n",
       "      <td>Gahnakhar</td>\n",
       "      <td>Female</td>\n",
       "      <td>Dr. Mamta singh</td>\n",
       "      <td>Patient</td>\n",
       "      <td>Gaytri</td>\n",
       "      <td>2021-09-21 12:38:00</td>\n",
       "      <td>100</td>\n",
       "      <td>550.0</td>\n",
       "      <td>NaN</td>\n",
       "      <td>31.0</td>\n",
       "    </tr>\n",
       "    <tr>\n",
       "      <th>31</th>\n",
       "      <td>2021-09-21 12:21:00</td>\n",
       "      <td>210921020.0</td>\n",
       "      <td>Old</td>\n",
       "      <td>3</td>\n",
       "      <td>55.0</td>\n",
       "      <td>Harratal</td>\n",
       "      <td>Male</td>\n",
       "      <td>Dr. Mamta singh</td>\n",
       "      <td>Patient</td>\n",
       "      <td>Nilam</td>\n",
       "      <td>2021-09-21 12:40:00</td>\n",
       "      <td>100</td>\n",
       "      <td>810.0</td>\n",
       "      <td>NaN</td>\n",
       "      <td>19.0</td>\n",
       "    </tr>\n",
       "    <tr>\n",
       "      <th>32</th>\n",
       "      <td>2021-09-21 12:24:00</td>\n",
       "      <td>210921021.0</td>\n",
       "      <td>New</td>\n",
       "      <td>1</td>\n",
       "      <td>22.0</td>\n",
       "      <td>Saraipali</td>\n",
       "      <td>Male</td>\n",
       "      <td>Dr. Mamta singh</td>\n",
       "      <td>Patient</td>\n",
       "      <td>Rakhi</td>\n",
       "      <td>2021-09-21 12:43:00</td>\n",
       "      <td>100</td>\n",
       "      <td>890.0</td>\n",
       "      <td>NaN</td>\n",
       "      <td>19.0</td>\n",
       "    </tr>\n",
       "    <tr>\n",
       "      <th>33</th>\n",
       "      <td>2021-09-21 12:31:00</td>\n",
       "      <td>210921022.0</td>\n",
       "      <td>New</td>\n",
       "      <td>1</td>\n",
       "      <td>56.0</td>\n",
       "      <td>Manpasar</td>\n",
       "      <td>Male</td>\n",
       "      <td>Dr. Mamta singh</td>\n",
       "      <td>Painting</td>\n",
       "      <td>Jyoti</td>\n",
       "      <td>2021-09-21 12:52:00</td>\n",
       "      <td>100</td>\n",
       "      <td>950.0</td>\n",
       "      <td>NaN</td>\n",
       "      <td>21.0</td>\n",
       "    </tr>\n",
       "    <tr>\n",
       "      <th>34</th>\n",
       "      <td>2021-09-21 12:35:00</td>\n",
       "      <td>210921023.0</td>\n",
       "      <td>New</td>\n",
       "      <td>1</td>\n",
       "      <td>40.0</td>\n",
       "      <td>Dongripali</td>\n",
       "      <td>Female</td>\n",
       "      <td>Dr. Mamta singh</td>\n",
       "      <td>Patient</td>\n",
       "      <td>Neha</td>\n",
       "      <td>2021-09-21 12:55:00</td>\n",
       "      <td>100</td>\n",
       "      <td>810.0</td>\n",
       "      <td>NaN</td>\n",
       "      <td>20.0</td>\n",
       "    </tr>\n",
       "    <tr>\n",
       "      <th>35</th>\n",
       "      <td>2021-09-21 12:41:00</td>\n",
       "      <td>210921024.0</td>\n",
       "      <td>Old</td>\n",
       "      <td>3</td>\n",
       "      <td>35.0</td>\n",
       "      <td>Kharkhari</td>\n",
       "      <td>Female</td>\n",
       "      <td>Dr. Mamta singh</td>\n",
       "      <td>Patient</td>\n",
       "      <td>Gaytri</td>\n",
       "      <td>2021-09-21 13:04:00</td>\n",
       "      <td>100</td>\n",
       "      <td>1040.0</td>\n",
       "      <td>NaN</td>\n",
       "      <td>23.0</td>\n",
       "    </tr>\n",
       "  </tbody>\n",
       "</table>\n",
       "</div>"
      ],
      "text/plain": [
       "                TimeIN     UniqueID Type Visit   Age     Address  Gender  \\\n",
       "0  2021-09-19 23:20:00  210830010.0  New     2  70.0     pithara    Male   \n",
       "1  2021-09-30 16:15:00  210901001.0  Old     2  49.0      Tosgav    Male   \n",
       "2  2021-09-29 11:29:00  210919016.0  New     1  26.0     Arjunda  Female   \n",
       "19 2021-09-21 11:08:00  210921008.0  New     1  55.0       Pirda  Female   \n",
       "20 2021-09-21 11:10:00  210921009.0  Old     5  23.0       Basna    Male   \n",
       "21 2021-09-21 11:18:00  210921010.0  Old     5  13.0   Paranpali  Female   \n",
       "22 2021-09-21 11:24:00  210921011.0  New     1  24.0  Barihapali    Male   \n",
       "23 2021-09-21 11:25:00  210921012.0  Old     5  68.0       Jagat  Female   \n",
       "24 2021-09-21 11:34:00  210921013.0  New     1  28.0    Golajhar    Male   \n",
       "25 2021-09-21 11:41:00  210921014.0  New     1  23.0    Golajhar  Female   \n",
       "26 2021-09-21 11:48:00  210921015.0  Old     1  27.0   Saraipali    Male   \n",
       "27 2021-09-21 11:51:00  210921016.0  Old     1  33.0       Basna    Male   \n",
       "28 2021-09-21 11:53:00  210921017.0  New     1  38.0       Basna  Female   \n",
       "29 2021-09-21 12:02:00  210921018.0  New     1  22.0   Saraipali    Male   \n",
       "30 2021-09-21 12:07:00  210921019.0  Old     2  19.0   Gahnakhar  Female   \n",
       "31 2021-09-21 12:21:00  210921020.0  Old     3  55.0    Harratal    Male   \n",
       "32 2021-09-21 12:24:00  210921021.0  New     1  22.0   Saraipali    Male   \n",
       "33 2021-09-21 12:31:00  210921022.0  New     1  56.0    Manpasar    Male   \n",
       "34 2021-09-21 12:35:00  210921023.0  New     1  40.0  Dongripali  Female   \n",
       "35 2021-09-21 12:41:00  210921024.0  Old     3  35.0   Kharkhari  Female   \n",
       "\n",
       "             Doctor       Reference Attendant             TimeOUT  OPD_fees  \\\n",
       "0   Dr. Mamta singh  Poster/Pamplet   Lakshmi                 NaT         0   \n",
       "1          Pharmacy         Patient      Neha                 NaT         0   \n",
       "2   Dr. Mamta singh    Social Media   Bandani                 NaT         0   \n",
       "19  Dr. Mamta singh         Patient     Jyoti 2021-09-21 11:28:00       100   \n",
       "20  Dr. Mamta singh         Patient      Neha 2021-09-21 11:31:00       100   \n",
       "21  Dr. Mamta singh         Patient     Rakhi 2021-09-21 11:44:00       100   \n",
       "22  Dr. Mamta singh         Patient     Nilam 2021-09-21 11:42:00       100   \n",
       "23  Dr. Mamta singh         Patient     Jyoti 2021-09-21 12:17:00       100   \n",
       "24  Dr. Mamta singh         Patient      Neha 2021-09-21 12:00:00       100   \n",
       "25  Dr. Mamta singh         Patient    Gaytri 2021-09-21 12:01:00       100   \n",
       "26  Dr. Mamta singh         Patient     Nilam 2021-09-21 12:12:00       100   \n",
       "27  Dr. Mamta singh         Patient     Rakhi 2021-09-21 12:19:00       100   \n",
       "28  Dr. Mamta singh         Patient     Jyoti 2021-09-21 12:23:00       100   \n",
       "29  Dr. Mamta singh         Patient      Neha 2021-09-21 12:32:00       100   \n",
       "30  Dr. Mamta singh         Patient    Gaytri 2021-09-21 12:38:00       100   \n",
       "31  Dr. Mamta singh         Patient     Nilam 2021-09-21 12:40:00       100   \n",
       "32  Dr. Mamta singh         Patient     Rakhi 2021-09-21 12:43:00       100   \n",
       "33  Dr. Mamta singh        Painting     Jyoti 2021-09-21 12:52:00       100   \n",
       "34  Dr. Mamta singh         Patient      Neha 2021-09-21 12:55:00       100   \n",
       "35  Dr. Mamta singh         Patient    Gaytri 2021-09-21 13:04:00       100   \n",
       "\n",
       "    Medicine  Surgery_fees  stay  \n",
       "0        NaN           NaN   NaN  \n",
       "1        NaN           NaN   NaN  \n",
       "2        NaN           NaN   NaN  \n",
       "19     490.0           NaN  20.0  \n",
       "20     280.0           NaN  21.0  \n",
       "21     950.0           NaN  26.0  \n",
       "22     340.0           NaN  18.0  \n",
       "23    1790.0           NaN  52.0  \n",
       "24     890.0           NaN  26.0  \n",
       "25     750.0           NaN  20.0  \n",
       "26     570.0           NaN  24.0  \n",
       "27    1100.0           NaN  28.0  \n",
       "28    1760.0           NaN  30.0  \n",
       "29     760.0           NaN  30.0  \n",
       "30     550.0           NaN  31.0  \n",
       "31     810.0           NaN  19.0  \n",
       "32     890.0           NaN  19.0  \n",
       "33     950.0           NaN  21.0  \n",
       "34     810.0           NaN  20.0  \n",
       "35    1040.0           NaN  23.0  "
      ]
     },
     "execution_count": 33,
     "metadata": {},
     "output_type": "execute_result"
    }
   ],
   "source": [
    "dfjoin.head(20)"
   ]
  },
  {
   "cell_type": "code",
   "execution_count": 34,
   "id": "aa8563e0",
   "metadata": {},
   "outputs": [
    {
     "data": {
      "text/plain": [
       "TimeIN          392\n",
       "UniqueID        392\n",
       "Type            390\n",
       "Visit           389\n",
       "Age             392\n",
       "Address         392\n",
       "Gender          392\n",
       "Doctor          392\n",
       "Reference       392\n",
       "Attendant       392\n",
       "TimeOUT         392\n",
       "OPD_fees        392\n",
       "Medicine        384\n",
       "Surgery_fees      6\n",
       "stay            392\n",
       "dtype: int64"
      ]
     },
     "execution_count": 34,
     "metadata": {},
     "output_type": "execute_result"
    }
   ],
   "source": [
    "dfjoin[dfjoin['stay'] < 0].count()"
   ]
  },
  {
   "cell_type": "code",
   "execution_count": 35,
   "id": "118d3ca5",
   "metadata": {},
   "outputs": [],
   "source": [
    "dfjoin.drop(dfjoin[dfjoin['stay'] <= 0].index, inplace = True)"
   ]
  },
  {
   "cell_type": "code",
   "execution_count": 36,
   "id": "883ae7c8",
   "metadata": {},
   "outputs": [
    {
     "data": {
      "text/plain": [
       "(2491, 15)"
      ]
     },
     "execution_count": 36,
     "metadata": {},
     "output_type": "execute_result"
    }
   ],
   "source": [
    "dfjoin.shape"
   ]
  },
  {
   "cell_type": "markdown",
   "id": "c40c48f4",
   "metadata": {},
   "source": [
    "1.Now we can perform important DATA VISUALISATION"
   ]
  },
  {
   "cell_type": "code",
   "execution_count": 37,
   "id": "58a9148c",
   "metadata": {},
   "outputs": [
    {
     "name": "stdout",
     "output_type": "stream",
     "text": [
      "Number of patient exceeding 1 hour: 5%\n"
     ]
    },
    {
     "data": {
      "image/png": "[encoded data removed]",
      "text/plain": [
       "<Figure size 432x288 with 1 Axes>"
      ]
     },
     "metadata": {
      "needs_background": "light"
     },
     "output_type": "display_data"
    }
   ],
   "source": [
    "#dfjoin['stay'].hist(bins=range(0, 180,5),color='teal',kde=True)\n",
    "sns.histplot(dfjoin['stay'],bins=range(0, 180,5),color='teal',kde=True)\n",
    "\n",
    "plt.xlabel('Time of stay(in minutes)')\n",
    "plt.ylabel('Number of patient');\n",
    "dfjoin['stay'].mean()\n",
    "print(\"Number of patient exceeding 1 hour: 5%\",)"
   ]
  },
  {
   "cell_type": "code",
   "execution_count": 38,
   "id": "b84ff44d",
   "metadata": {},
   "outputs": [
    {
     "data": {
      "text/plain": [
       "TimeIN          123\n",
       "UniqueID        123\n",
       "Type            123\n",
       "Visit           123\n",
       "Age             123\n",
       "Address         123\n",
       "Gender          123\n",
       "Doctor          123\n",
       "Reference       123\n",
       "Attendant       123\n",
       "TimeOUT         123\n",
       "OPD_fees        123\n",
       "Medicine        120\n",
       "Surgery_fees     26\n",
       "stay            123\n",
       "dtype: int64"
      ]
     },
     "execution_count": 38,
     "metadata": {},
     "output_type": "execute_result"
    }
   ],
   "source": [
    "dfjoin[dfjoin['stay'] > 60].count()"
   ]
  },
  {
   "cell_type": "code",
   "execution_count": 39,
   "id": "ba121171",
   "metadata": {},
   "outputs": [
    {
     "data": {
      "image/png": "[encoded data removed]",
      "text/plain": [
       "<Figure size 432x3456 with 31 Axes>"
      ]
     },
     "metadata": {
      "needs_background": "light"
     },
     "output_type": "display_data"
    }
   ],
   "source": [
    "import seaborn as sns\n",
    "\n",
    "bins = np.linspace(dfjoin['Age'].min(), dfjoin['Age'].max(), 10)\n",
    "\n",
    "g = sns.FacetGrid(dfjoin, col=\"Reference\", hue=\"Gender\", palette=\"Set1\", col_wrap=2)\n",
    "\n",
    "g.map(plt.hist, 'Age', bins=bins, ec=\"k\")\n",
    "\n",
    "g.axes[-1].legend()\n",
    "plt.show()"
   ]
  },
  {
   "cell_type": "markdown",
   "id": "cb1e27df",
   "metadata": {},
   "source": [
    "Conclusion\n",
    "Maximum patient comes from patient reference.\n",
    "Only few of them from painting and social media.\n",
    "And nearly non of them from other sources\n"
   ]
  },
  {
   "cell_type": "code",
   "execution_count": null,
   "id": "fe2606ed",
   "metadata": {},
   "outputs": [],
   "source": []
  },
  {
   "cell_type": "markdown",
   "id": "5d06f215",
   "metadata": {},
   "source": [
    "\n"
   ]
  },
  {
   "cell_type": "code",
   "execution_count": 58,
   "id": "af6d987b",
   "metadata": {
    "scrolled": true
   },
   "outputs": [
    {
     "data": {
      "text/plain": [
       "Spl                 577\n",
       "Basna               266\n",
       "Saraipali           109\n",
       "Pithora              67\n",
       "Sarangarh            67\n",
       "                   ... \n",
       "Taulidih              1\n",
       "Tilaipali             1\n",
       "Girsa                 1\n",
       "Baigindihi basna      1\n",
       "Jampali               1\n",
       "Name: Address, Length: 578, dtype: int64"
      ]
     },
     "execution_count": 58,
     "metadata": {},
     "output_type": "execute_result"
    }
   ],
   "source": [
    "dfjoin['Address'].value_counts()"
   ]
  },
  {
   "cell_type": "markdown",
   "id": "cc7ce8d7",
   "metadata": {},
   "source": [
    "Conclusion:We can focus on village with more population"
   ]
  },
  {
   "cell_type": "code",
   "execution_count": null,
   "id": "550f1a58",
   "metadata": {},
   "outputs": [],
   "source": []
  },
  {
   "cell_type": "code",
   "execution_count": 41,
   "id": "3315babb",
   "metadata": {},
   "outputs": [
    {
     "data": {
      "text/plain": [
       "(2491, 15)"
      ]
     },
     "execution_count": 41,
     "metadata": {},
     "output_type": "execute_result"
    }
   ],
   "source": [
    "dfjoin.shape"
   ]
  },
  {
   "cell_type": "code",
   "execution_count": 42,
   "id": "54ee22bb",
   "metadata": {},
   "outputs": [
    {
     "data": {
      "text/plain": [
       "TimeIN          datetime64[ns]\n",
       "UniqueID               float64\n",
       "Type                    object\n",
       "Visit                   object\n",
       "Age                    float64\n",
       "Address                 object\n",
       "Gender                  object\n",
       "Doctor                  object\n",
       "Reference               object\n",
       "Attendant               object\n",
       "TimeOUT         datetime64[ns]\n",
       "OPD_fees                 int32\n",
       "Medicine               float64\n",
       "Surgery_fees           float64\n",
       "stay                   float64\n",
       "dtype: object"
      ]
     },
     "execution_count": 42,
     "metadata": {},
     "output_type": "execute_result"
    }
   ],
   "source": [
    "dfjoin.dtypes"
   ]
  },
  {
   "cell_type": "markdown",
   "id": "2274e274",
   "metadata": {},
   "source": [
    "Now we are interested in weather free OPD was beneficial or not.\n",
    "And what was the revenue of medicine on that day\n"
   ]
  },
  {
   "cell_type": "code",
   "execution_count": 43,
   "id": "f976607b",
   "metadata": {},
   "outputs": [],
   "source": [
    "dfjoin['dayofweek'] = dfjoin['TimeIN'].dt.weekday\n",
    "dfjoin['dayofweek2']=dfjoin['TimeIN'].dt.day_name()\n",
    "\n"
   ]
  },
  {
   "cell_type": "code",
   "execution_count": 140,
   "id": "fc36bde4",
   "metadata": {},
   "outputs": [
    {
     "data": {
      "text/plain": [
       "Text(0, 0.5, 'OPD_fees')"
      ]
     },
     "execution_count": 140,
     "metadata": {},
     "output_type": "execute_result"
    },
    {
     "data": {
      "image/png": "[encoded data removed]",
      "text/plain": [
       "<Figure size 432x288 with 1 Axes>"
      ]
     },
     "metadata": {
      "needs_background": "light"
     },
     "output_type": "display_data"
    }
   ],
   "source": [
    "\n",
    "g=dfjoin[['dayofweek2','OPD_fees']].groupby('dayofweek2').mean()\n",
    "g.plot(kind='bar')\n",
    "plt.ylabel(\"OPD_fees\")\n"
   ]
  },
  {
   "cell_type": "code",
   "execution_count": 45,
   "id": "d190062e",
   "metadata": {},
   "outputs": [
    {
     "data": {
      "text/html": [
       "<div>\n",
       "<style scoped>\n",
       "    .dataframe tbody tr th:only-of-type {\n",
       "        vertical-align: middle;\n",
       "    }\n",
       "\n",
       "    .dataframe tbody tr th {\n",
       "        vertical-align: top;\n",
       "    }\n",
       "\n",
       "    .dataframe thead th {\n",
       "        text-align: right;\n",
       "    }\n",
       "</style>\n",
       "<table border=\"1\" class=\"dataframe\">\n",
       "  <thead>\n",
       "    <tr style=\"text-align: right;\">\n",
       "      <th></th>\n",
       "      <th>Medicine</th>\n",
       "    </tr>\n",
       "    <tr>\n",
       "      <th>dayofweek2</th>\n",
       "      <th></th>\n",
       "    </tr>\n",
       "  </thead>\n",
       "  <tbody>\n",
       "    <tr>\n",
       "      <th>Friday</th>\n",
       "      <td>2.363230e+05</td>\n",
       "    </tr>\n",
       "    <tr>\n",
       "      <th>Monday</th>\n",
       "      <td>2.614950e+05</td>\n",
       "    </tr>\n",
       "    <tr>\n",
       "      <th>Saturday</th>\n",
       "      <td>8.320051e+09</td>\n",
       "    </tr>\n",
       "    <tr>\n",
       "      <th>Sunday</th>\n",
       "      <td>2.675090e+05</td>\n",
       "    </tr>\n",
       "    <tr>\n",
       "      <th>Thursday</th>\n",
       "      <td>2.036880e+05</td>\n",
       "    </tr>\n",
       "    <tr>\n",
       "      <th>Tuesday</th>\n",
       "      <td>1.783120e+05</td>\n",
       "    </tr>\n",
       "    <tr>\n",
       "      <th>Wednesday</th>\n",
       "      <td>1.986780e+05</td>\n",
       "    </tr>\n",
       "  </tbody>\n",
       "</table>\n",
       "</div>"
      ],
      "text/plain": [
       "                Medicine\n",
       "dayofweek2              \n",
       "Friday      2.363230e+05\n",
       "Monday      2.614950e+05\n",
       "Saturday    8.320051e+09\n",
       "Sunday      2.675090e+05\n",
       "Thursday    2.036880e+05\n",
       "Tuesday     1.783120e+05\n",
       "Wednesday   1.986780e+05"
      ]
     },
     "execution_count": 45,
     "metadata": {},
     "output_type": "execute_result"
    }
   ],
   "source": [
    "#sns.barplot(dfjoin['dayofweek'],dfjoin['Medicine'].sum())\n",
    "\n",
    "dfjoin[['dayofweek2', 'Medicine']].groupby('dayofweek2').sum()\n",
    "\n",
    "#df[['day', 'salary']].groupby('day').mean().plot(kind='bar', legend=None)\n",
    "\n",
    "\n"
   ]
  },
  {
   "cell_type": "markdown",
   "id": "3dbd943f",
   "metadata": {},
   "source": [
    "We notice that income on saturday is unexpectadly high\n",
    "and there must be outlier on the medicine.Hence we will remove that."
   ]
  },
  {
   "cell_type": "code",
   "execution_count": 46,
   "id": "f94b9db8",
   "metadata": {},
   "outputs": [
    {
     "data": {
      "text/html": [
       "<div>\n",
       "<style scoped>\n",
       "    .dataframe tbody tr th:only-of-type {\n",
       "        vertical-align: middle;\n",
       "    }\n",
       "\n",
       "    .dataframe tbody tr th {\n",
       "        vertical-align: top;\n",
       "    }\n",
       "\n",
       "    .dataframe thead th {\n",
       "        text-align: right;\n",
       "    }\n",
       "</style>\n",
       "<table border=\"1\" class=\"dataframe\">\n",
       "  <thead>\n",
       "    <tr style=\"text-align: right;\">\n",
       "      <th></th>\n",
       "      <th>TimeIN</th>\n",
       "      <th>UniqueID</th>\n",
       "      <th>Type</th>\n",
       "      <th>Visit</th>\n",
       "      <th>Age</th>\n",
       "      <th>Address</th>\n",
       "      <th>Gender</th>\n",
       "      <th>Doctor</th>\n",
       "      <th>Reference</th>\n",
       "      <th>Attendant</th>\n",
       "      <th>TimeOUT</th>\n",
       "      <th>OPD_fees</th>\n",
       "      <th>Medicine</th>\n",
       "      <th>Surgery_fees</th>\n",
       "      <th>stay</th>\n",
       "      <th>dayofweek</th>\n",
       "      <th>dayofweek2</th>\n",
       "    </tr>\n",
       "  </thead>\n",
       "  <tbody>\n",
       "    <tr>\n",
       "      <th>1861</th>\n",
       "      <td>2021-12-11 10:39:00</td>\n",
       "      <td>211112020.0</td>\n",
       "      <td>New</td>\n",
       "      <td>1</td>\n",
       "      <td>29.0</td>\n",
       "      <td>Basna</td>\n",
       "      <td>Female</td>\n",
       "      <td>Dr. Mamta singh</td>\n",
       "      <td>Patient</td>\n",
       "      <td>Jyoti thakur</td>\n",
       "      <td>2021-12-11 10:54:00</td>\n",
       "      <td>0</td>\n",
       "      <td>8.319790e+09</td>\n",
       "      <td>NaN</td>\n",
       "      <td>15.0</td>\n",
       "      <td>5.0</td>\n",
       "      <td>Saturday</td>\n",
       "    </tr>\n",
       "  </tbody>\n",
       "</table>\n",
       "</div>"
      ],
      "text/plain": [
       "                  TimeIN     UniqueID Type Visit   Age Address  Gender  \\\n",
       "1861 2021-12-11 10:39:00  211112020.0  New     1  29.0   Basna  Female   \n",
       "\n",
       "               Doctor Reference     Attendant             TimeOUT  OPD_fees  \\\n",
       "1861  Dr. Mamta singh   Patient  Jyoti thakur 2021-12-11 10:54:00         0   \n",
       "\n",
       "          Medicine  Surgery_fees  stay  dayofweek dayofweek2  \n",
       "1861  8.319790e+09           NaN  15.0        5.0   Saturday  "
      ]
     },
     "execution_count": 46,
     "metadata": {},
     "output_type": "execute_result"
    }
   ],
   "source": [
    "dfjoin[dfjoin['Medicine']>10000]\n"
   ]
  },
  {
   "cell_type": "code",
   "execution_count": 47,
   "id": "6882f5bd",
   "metadata": {},
   "outputs": [],
   "source": [
    "dfjoin.drop(dfjoin[dfjoin['Medicine']> 10000].index,axis=0, inplace = True)"
   ]
  },
  {
   "cell_type": "code",
   "execution_count": 48,
   "id": "9ce00176",
   "metadata": {},
   "outputs": [
    {
     "data": {
      "text/html": [
       "<div>\n",
       "<style scoped>\n",
       "    .dataframe tbody tr th:only-of-type {\n",
       "        vertical-align: middle;\n",
       "    }\n",
       "\n",
       "    .dataframe tbody tr th {\n",
       "        vertical-align: top;\n",
       "    }\n",
       "\n",
       "    .dataframe thead th {\n",
       "        text-align: right;\n",
       "    }\n",
       "</style>\n",
       "<table border=\"1\" class=\"dataframe\">\n",
       "  <thead>\n",
       "    <tr style=\"text-align: right;\">\n",
       "      <th></th>\n",
       "      <th>TimeIN</th>\n",
       "      <th>UniqueID</th>\n",
       "      <th>Type</th>\n",
       "      <th>Visit</th>\n",
       "      <th>Age</th>\n",
       "      <th>Address</th>\n",
       "      <th>Gender</th>\n",
       "      <th>Doctor</th>\n",
       "      <th>Reference</th>\n",
       "      <th>Attendant</th>\n",
       "      <th>TimeOUT</th>\n",
       "      <th>OPD_fees</th>\n",
       "      <th>Medicine</th>\n",
       "      <th>Surgery_fees</th>\n",
       "      <th>stay</th>\n",
       "      <th>dayofweek</th>\n",
       "      <th>dayofweek2</th>\n",
       "    </tr>\n",
       "  </thead>\n",
       "  <tbody>\n",
       "  </tbody>\n",
       "</table>\n",
       "</div>"
      ],
      "text/plain": [
       "Empty DataFrame\n",
       "Columns: [TimeIN, UniqueID, Type, Visit, Age, Address, Gender, Doctor, Reference, Attendant, TimeOUT, OPD_fees, Medicine, Surgery_fees, stay, dayofweek, dayofweek2]\n",
       "Index: []"
      ]
     },
     "execution_count": 48,
     "metadata": {},
     "output_type": "execute_result"
    }
   ],
   "source": [
    "dfjoin[dfjoin['Medicine']>10000]"
   ]
  },
  {
   "cell_type": "code",
   "execution_count": 49,
   "id": "b4b7b7ce",
   "metadata": {},
   "outputs": [
    {
     "data": {
      "text/html": [
       "<div>\n",
       "<style scoped>\n",
       "    .dataframe tbody tr th:only-of-type {\n",
       "        vertical-align: middle;\n",
       "    }\n",
       "\n",
       "    .dataframe tbody tr th {\n",
       "        vertical-align: top;\n",
       "    }\n",
       "\n",
       "    .dataframe thead th {\n",
       "        text-align: right;\n",
       "    }\n",
       "</style>\n",
       "<table border=\"1\" class=\"dataframe\">\n",
       "  <thead>\n",
       "    <tr style=\"text-align: right;\">\n",
       "      <th></th>\n",
       "      <th>Medicine</th>\n",
       "    </tr>\n",
       "    <tr>\n",
       "      <th>dayofweek2</th>\n",
       "      <th></th>\n",
       "    </tr>\n",
       "  </thead>\n",
       "  <tbody>\n",
       "    <tr>\n",
       "      <th>Friday</th>\n",
       "      <td>236323.0</td>\n",
       "    </tr>\n",
       "    <tr>\n",
       "      <th>Monday</th>\n",
       "      <td>261495.0</td>\n",
       "    </tr>\n",
       "    <tr>\n",
       "      <th>Saturday</th>\n",
       "      <td>261676.0</td>\n",
       "    </tr>\n",
       "    <tr>\n",
       "      <th>Sunday</th>\n",
       "      <td>267509.0</td>\n",
       "    </tr>\n",
       "    <tr>\n",
       "      <th>Thursday</th>\n",
       "      <td>203688.0</td>\n",
       "    </tr>\n",
       "    <tr>\n",
       "      <th>Tuesday</th>\n",
       "      <td>178312.0</td>\n",
       "    </tr>\n",
       "    <tr>\n",
       "      <th>Wednesday</th>\n",
       "      <td>198678.0</td>\n",
       "    </tr>\n",
       "  </tbody>\n",
       "</table>\n",
       "</div>"
      ],
      "text/plain": [
       "            Medicine\n",
       "dayofweek2          \n",
       "Friday      236323.0\n",
       "Monday      261495.0\n",
       "Saturday    261676.0\n",
       "Sunday      267509.0\n",
       "Thursday    203688.0\n",
       "Tuesday     178312.0\n",
       "Wednesday   198678.0"
      ]
     },
     "execution_count": 49,
     "metadata": {},
     "output_type": "execute_result"
    }
   ],
   "source": [
    "dfjoin[['dayofweek2', 'Medicine']].groupby('dayofweek2').sum()"
   ]
  },
  {
   "cell_type": "code",
   "execution_count": 59,
   "id": "fa0e9bec",
   "metadata": {},
   "outputs": [
    {
     "data": {
      "text/plain": [
       "<AxesSubplot:xlabel='dayofweek2'>"
      ]
     },
     "execution_count": 59,
     "metadata": {},
     "output_type": "execute_result"
    },
    {
     "data": {
      "image/png": "[encoded data removed]",
      "text/plain": [
       "<Figure size 432x288 with 1 Axes>"
      ]
     },
     "metadata": {
      "needs_background": "light"
     },
     "output_type": "display_data"
    }
   ],
   "source": [
    "f=dfjoin[['dayofweek2','Medicine']].groupby('dayofweek2').sum()\n",
    "f.plot(kind='bar')\n",
    "ylabelk"
   ]
  },
  {
   "cell_type": "code",
   "execution_count": 51,
   "id": "52ca914b",
   "metadata": {},
   "outputs": [
    {
     "data": {
      "text/plain": [
       "<AxesSubplot:xlabel='dayofweek2'>"
      ]
     },
     "execution_count": 51,
     "metadata": {},
     "output_type": "execute_result"
    },
    {
     "data": {
      "image/png": "[encoded data removed]",
      "text/plain": [
       "<Figure size 432x288 with 1 Axes>"
      ]
     },
     "metadata": {
      "needs_background": "light"
     },
     "output_type": "display_data"
    }
   ],
   "source": [
    "s=dfjoin[['dayofweek2','Surgery_fees']].groupby('dayofweek2').mean()\n",
    "s.plot(kind='bar')"
   ]
  },
  {
   "cell_type": "markdown",
   "id": "5edbe69e",
   "metadata": {},
   "source": [
    "Conclusion:\n",
    "Doing free of OPD have not impacted medicine income or surgery fees.\n",
    "\n"
   ]
  },
  {
   "cell_type": "code",
   "execution_count": null,
   "id": "a88d314c",
   "metadata": {},
   "outputs": [],
   "source": []
  },
  {
   "cell_type": "code",
   "execution_count": 115,
   "id": "2af6af6a",
   "metadata": {},
   "outputs": [],
   "source": [
    "dfjoin['Totalfees']=dfjoin['OPD_fees']+dfjoin['Medicine']+dfjoin['Surgery_fees']"
   ]
  },
  {
   "cell_type": "code",
   "execution_count": 116,
   "id": "03878711",
   "metadata": {},
   "outputs": [
    {
     "data": {
      "text/html": [
       "<div>\n",
       "<style scoped>\n",
       "    .dataframe tbody tr th:only-of-type {\n",
       "        vertical-align: middle;\n",
       "    }\n",
       "\n",
       "    .dataframe tbody tr th {\n",
       "        vertical-align: top;\n",
       "    }\n",
       "\n",
       "    .dataframe thead th {\n",
       "        text-align: right;\n",
       "    }\n",
       "</style>\n",
       "<table border=\"1\" class=\"dataframe\">\n",
       "  <thead>\n",
       "    <tr style=\"text-align: right;\">\n",
       "      <th></th>\n",
       "      <th>TimeIN</th>\n",
       "      <th>UniqueID</th>\n",
       "      <th>Type</th>\n",
       "      <th>Visit</th>\n",
       "      <th>Age</th>\n",
       "      <th>Address</th>\n",
       "      <th>Gender</th>\n",
       "      <th>Doctor</th>\n",
       "      <th>Reference</th>\n",
       "      <th>Attendant</th>\n",
       "      <th>TimeOUT</th>\n",
       "      <th>OPD_fees</th>\n",
       "      <th>Medicine</th>\n",
       "      <th>Surgery_fees</th>\n",
       "      <th>stay</th>\n",
       "      <th>dayofweek</th>\n",
       "      <th>dayofweek2</th>\n",
       "      <th>Totalfees</th>\n",
       "    </tr>\n",
       "  </thead>\n",
       "  <tbody>\n",
       "    <tr>\n",
       "      <th>0</th>\n",
       "      <td>2021-09-19 23:20:00</td>\n",
       "      <td>210830010.0</td>\n",
       "      <td>New</td>\n",
       "      <td>2</td>\n",
       "      <td>70.0</td>\n",
       "      <td>pithara</td>\n",
       "      <td>Male</td>\n",
       "      <td>Dr. Mamta singh</td>\n",
       "      <td>Poster/Pamplet</td>\n",
       "      <td>Lakshmi</td>\n",
       "      <td>NaT</td>\n",
       "      <td>0.0</td>\n",
       "      <td>0.0</td>\n",
       "      <td>0.0</td>\n",
       "      <td>NaN</td>\n",
       "      <td>6.0</td>\n",
       "      <td>Sunday</td>\n",
       "      <td>0.0</td>\n",
       "    </tr>\n",
       "    <tr>\n",
       "      <th>1</th>\n",
       "      <td>2021-09-30 16:15:00</td>\n",
       "      <td>210901001.0</td>\n",
       "      <td>Old</td>\n",
       "      <td>2</td>\n",
       "      <td>49.0</td>\n",
       "      <td>Tosgav</td>\n",
       "      <td>Male</td>\n",
       "      <td>Pharmacy</td>\n",
       "      <td>Patient</td>\n",
       "      <td>Neha</td>\n",
       "      <td>NaT</td>\n",
       "      <td>0.0</td>\n",
       "      <td>0.0</td>\n",
       "      <td>0.0</td>\n",
       "      <td>NaN</td>\n",
       "      <td>3.0</td>\n",
       "      <td>Thursday</td>\n",
       "      <td>0.0</td>\n",
       "    </tr>\n",
       "    <tr>\n",
       "      <th>2</th>\n",
       "      <td>2021-09-29 11:29:00</td>\n",
       "      <td>210919016.0</td>\n",
       "      <td>New</td>\n",
       "      <td>1</td>\n",
       "      <td>26.0</td>\n",
       "      <td>Arjunda</td>\n",
       "      <td>Female</td>\n",
       "      <td>Dr. Mamta singh</td>\n",
       "      <td>Social Media</td>\n",
       "      <td>Bandani</td>\n",
       "      <td>NaT</td>\n",
       "      <td>0.0</td>\n",
       "      <td>0.0</td>\n",
       "      <td>0.0</td>\n",
       "      <td>NaN</td>\n",
       "      <td>2.0</td>\n",
       "      <td>Wednesday</td>\n",
       "      <td>0.0</td>\n",
       "    </tr>\n",
       "    <tr>\n",
       "      <th>19</th>\n",
       "      <td>2021-09-21 11:08:00</td>\n",
       "      <td>210921008.0</td>\n",
       "      <td>New</td>\n",
       "      <td>1</td>\n",
       "      <td>55.0</td>\n",
       "      <td>Pirda</td>\n",
       "      <td>Female</td>\n",
       "      <td>Dr. Mamta singh</td>\n",
       "      <td>Patient</td>\n",
       "      <td>Jyoti</td>\n",
       "      <td>2021-09-21 11:28:00</td>\n",
       "      <td>100.0</td>\n",
       "      <td>490.0</td>\n",
       "      <td>0.0</td>\n",
       "      <td>20.0</td>\n",
       "      <td>1.0</td>\n",
       "      <td>Tuesday</td>\n",
       "      <td>590.0</td>\n",
       "    </tr>\n",
       "    <tr>\n",
       "      <th>20</th>\n",
       "      <td>2021-09-21 11:10:00</td>\n",
       "      <td>210921009.0</td>\n",
       "      <td>Old</td>\n",
       "      <td>5</td>\n",
       "      <td>23.0</td>\n",
       "      <td>Basna</td>\n",
       "      <td>Male</td>\n",
       "      <td>Dr. Mamta singh</td>\n",
       "      <td>Patient</td>\n",
       "      <td>Neha</td>\n",
       "      <td>2021-09-21 11:31:00</td>\n",
       "      <td>100.0</td>\n",
       "      <td>280.0</td>\n",
       "      <td>0.0</td>\n",
       "      <td>21.0</td>\n",
       "      <td>1.0</td>\n",
       "      <td>Tuesday</td>\n",
       "      <td>380.0</td>\n",
       "    </tr>\n",
       "    <tr>\n",
       "      <th>21</th>\n",
       "      <td>2021-09-21 11:18:00</td>\n",
       "      <td>210921010.0</td>\n",
       "      <td>Old</td>\n",
       "      <td>5</td>\n",
       "      <td>13.0</td>\n",
       "      <td>Paranpali</td>\n",
       "      <td>Female</td>\n",
       "      <td>Dr. Mamta singh</td>\n",
       "      <td>Patient</td>\n",
       "      <td>Rakhi</td>\n",
       "      <td>2021-09-21 11:44:00</td>\n",
       "      <td>100.0</td>\n",
       "      <td>950.0</td>\n",
       "      <td>0.0</td>\n",
       "      <td>26.0</td>\n",
       "      <td>1.0</td>\n",
       "      <td>Tuesday</td>\n",
       "      <td>1050.0</td>\n",
       "    </tr>\n",
       "    <tr>\n",
       "      <th>22</th>\n",
       "      <td>2021-09-21 11:24:00</td>\n",
       "      <td>210921011.0</td>\n",
       "      <td>New</td>\n",
       "      <td>1</td>\n",
       "      <td>24.0</td>\n",
       "      <td>Barihapali</td>\n",
       "      <td>Male</td>\n",
       "      <td>Dr. Mamta singh</td>\n",
       "      <td>Patient</td>\n",
       "      <td>Nilam</td>\n",
       "      <td>2021-09-21 11:42:00</td>\n",
       "      <td>100.0</td>\n",
       "      <td>340.0</td>\n",
       "      <td>0.0</td>\n",
       "      <td>18.0</td>\n",
       "      <td>1.0</td>\n",
       "      <td>Tuesday</td>\n",
       "      <td>440.0</td>\n",
       "    </tr>\n",
       "    <tr>\n",
       "      <th>23</th>\n",
       "      <td>2021-09-21 11:25:00</td>\n",
       "      <td>210921012.0</td>\n",
       "      <td>Old</td>\n",
       "      <td>5</td>\n",
       "      <td>68.0</td>\n",
       "      <td>Jagat</td>\n",
       "      <td>Female</td>\n",
       "      <td>Dr. Mamta singh</td>\n",
       "      <td>Patient</td>\n",
       "      <td>Jyoti</td>\n",
       "      <td>2021-09-21 12:17:00</td>\n",
       "      <td>100.0</td>\n",
       "      <td>1790.0</td>\n",
       "      <td>0.0</td>\n",
       "      <td>52.0</td>\n",
       "      <td>1.0</td>\n",
       "      <td>Tuesday</td>\n",
       "      <td>1890.0</td>\n",
       "    </tr>\n",
       "    <tr>\n",
       "      <th>24</th>\n",
       "      <td>2021-09-21 11:34:00</td>\n",
       "      <td>210921013.0</td>\n",
       "      <td>New</td>\n",
       "      <td>1</td>\n",
       "      <td>28.0</td>\n",
       "      <td>Golajhar</td>\n",
       "      <td>Male</td>\n",
       "      <td>Dr. Mamta singh</td>\n",
       "      <td>Patient</td>\n",
       "      <td>Neha</td>\n",
       "      <td>2021-09-21 12:00:00</td>\n",
       "      <td>100.0</td>\n",
       "      <td>890.0</td>\n",
       "      <td>0.0</td>\n",
       "      <td>26.0</td>\n",
       "      <td>1.0</td>\n",
       "      <td>Tuesday</td>\n",
       "      <td>990.0</td>\n",
       "    </tr>\n",
       "    <tr>\n",
       "      <th>25</th>\n",
       "      <td>2021-09-21 11:41:00</td>\n",
       "      <td>210921014.0</td>\n",
       "      <td>New</td>\n",
       "      <td>1</td>\n",
       "      <td>23.0</td>\n",
       "      <td>Golajhar</td>\n",
       "      <td>Female</td>\n",
       "      <td>Dr. Mamta singh</td>\n",
       "      <td>Patient</td>\n",
       "      <td>Gaytri</td>\n",
       "      <td>2021-09-21 12:01:00</td>\n",
       "      <td>100.0</td>\n",
       "      <td>750.0</td>\n",
       "      <td>0.0</td>\n",
       "      <td>20.0</td>\n",
       "      <td>1.0</td>\n",
       "      <td>Tuesday</td>\n",
       "      <td>850.0</td>\n",
       "    </tr>\n",
       "  </tbody>\n",
       "</table>\n",
       "</div>"
      ],
      "text/plain": [
       "                TimeIN     UniqueID Type Visit   Age     Address  Gender  \\\n",
       "0  2021-09-19 23:20:00  210830010.0  New     2  70.0     pithara    Male   \n",
       "1  2021-09-30 16:15:00  210901001.0  Old     2  49.0      Tosgav    Male   \n",
       "2  2021-09-29 11:29:00  210919016.0  New     1  26.0     Arjunda  Female   \n",
       "19 2021-09-21 11:08:00  210921008.0  New     1  55.0       Pirda  Female   \n",
       "20 2021-09-21 11:10:00  210921009.0  Old     5  23.0       Basna    Male   \n",
       "21 2021-09-21 11:18:00  210921010.0  Old     5  13.0   Paranpali  Female   \n",
       "22 2021-09-21 11:24:00  210921011.0  New     1  24.0  Barihapali    Male   \n",
       "23 2021-09-21 11:25:00  210921012.0  Old     5  68.0       Jagat  Female   \n",
       "24 2021-09-21 11:34:00  210921013.0  New     1  28.0    Golajhar    Male   \n",
       "25 2021-09-21 11:41:00  210921014.0  New     1  23.0    Golajhar  Female   \n",
       "\n",
       "             Doctor       Reference Attendant             TimeOUT  OPD_fees  \\\n",
       "0   Dr. Mamta singh  Poster/Pamplet   Lakshmi                 NaT       0.0   \n",
       "1          Pharmacy         Patient      Neha                 NaT       0.0   \n",
       "2   Dr. Mamta singh    Social Media   Bandani                 NaT       0.0   \n",
       "19  Dr. Mamta singh         Patient     Jyoti 2021-09-21 11:28:00     100.0   \n",
       "20  Dr. Mamta singh         Patient      Neha 2021-09-21 11:31:00     100.0   \n",
       "21  Dr. Mamta singh         Patient     Rakhi 2021-09-21 11:44:00     100.0   \n",
       "22  Dr. Mamta singh         Patient     Nilam 2021-09-21 11:42:00     100.0   \n",
       "23  Dr. Mamta singh         Patient     Jyoti 2021-09-21 12:17:00     100.0   \n",
       "24  Dr. Mamta singh         Patient      Neha 2021-09-21 12:00:00     100.0   \n",
       "25  Dr. Mamta singh         Patient    Gaytri 2021-09-21 12:01:00     100.0   \n",
       "\n",
       "    Medicine  Surgery_fees  stay  dayofweek dayofweek2  Totalfees  \n",
       "0        0.0           0.0   NaN        6.0     Sunday        0.0  \n",
       "1        0.0           0.0   NaN        3.0   Thursday        0.0  \n",
       "2        0.0           0.0   NaN        2.0  Wednesday        0.0  \n",
       "19     490.0           0.0  20.0        1.0    Tuesday      590.0  \n",
       "20     280.0           0.0  21.0        1.0    Tuesday      380.0  \n",
       "21     950.0           0.0  26.0        1.0    Tuesday     1050.0  \n",
       "22     340.0           0.0  18.0        1.0    Tuesday      440.0  \n",
       "23    1790.0           0.0  52.0        1.0    Tuesday     1890.0  \n",
       "24     890.0           0.0  26.0        1.0    Tuesday      990.0  \n",
       "25     750.0           0.0  20.0        1.0    Tuesday      850.0  "
      ]
     },
     "execution_count": 116,
     "metadata": {},
     "output_type": "execute_result"
    }
   ],
   "source": [
    "dfjoin.head(10)"
   ]
  },
  {
   "cell_type": "code",
   "execution_count": 117,
   "id": "f8a5a75d",
   "metadata": {},
   "outputs": [
    {
     "data": {
      "text/plain": [
       "<AxesSubplot:xlabel='dayofweek2'>"
      ]
     },
     "execution_count": 117,
     "metadata": {},
     "output_type": "execute_result"
    },
    {
     "data": {
      "image/png": "[encoded data removed]",
      "text/plain": [
       "<Figure size 432x288 with 1 Axes>"
      ]
     },
     "metadata": {
      "needs_background": "light"
     },
     "output_type": "display_data"
    }
   ],
   "source": [
    "s=dfjoin[['dayofweek2','Totalfees']].groupby('dayofweek2').sum()\n",
    "s.plot(kind='bar')"
   ]
  },
  {
   "cell_type": "markdown",
   "id": "1134491e",
   "metadata": {},
   "source": []
  },
  {
   "cell_type": "code",
   "execution_count": 68,
   "id": "7e08a03a",
   "metadata": {},
   "outputs": [
    {
     "data": {
      "text/plain": [
       "<AxesSubplot:xlabel='Attendant'>"
      ]
     },
     "execution_count": 68,
     "metadata": {},
     "output_type": "execute_result"
    },
    {
     "data": {
      "image/png": "[encoded data removed]",
      "text/plain": [
       "<Figure size 432x288 with 1 Axes>"
      ]
     },
     "metadata": {
      "needs_background": "light"
     },
     "output_type": "display_data"
    }
   ],
   "source": [
    "s=dfjoin[['Attendant','Totalfees']].groupby('Attendant').sum()\n",
    "s.plot(kind='bar')"
   ]
  },
  {
   "cell_type": "markdown",
   "id": "ffa9f397",
   "metadata": {},
   "source": [
    "Gayatri and jyoti contributed most to the clinic"
   ]
  },
  {
   "cell_type": "code",
   "execution_count": 65,
   "id": "b4d6c7e3",
   "metadata": {},
   "outputs": [
    {
     "data": {
      "text/plain": [
       "TimeIN          datetime64[ns]\n",
       "UniqueID               float64\n",
       "Type                    object\n",
       "Visit                   object\n",
       "Age                    float64\n",
       "Address                 object\n",
       "Gender                  object\n",
       "Doctor                  object\n",
       "Reference               object\n",
       "Attendant               object\n",
       "TimeOUT         datetime64[ns]\n",
       "OPD_fees               float64\n",
       "Medicine               float64\n",
       "Surgery_fees           float64\n",
       "stay                   float64\n",
       "dayofweek              float64\n",
       "dayofweek2              object\n",
       "dtype: object"
      ]
     },
     "execution_count": 65,
     "metadata": {},
     "output_type": "execute_result"
    }
   ],
   "source": [
    "dfjoin.dtypes"
   ]
  },
  {
   "cell_type": "code",
   "execution_count": 154,
   "id": "f2d1c204",
   "metadata": {},
   "outputs": [
    {
     "data": {
      "text/plain": [
       "Text(0, 0.5, 'Number of Patient')"
      ]
     },
     "execution_count": 154,
     "metadata": {},
     "output_type": "execute_result"
    },
    {
     "data": {
      "image/png": "[encoded data removed]",
      "text/plain": [
       "<Figure size 432x288 with 1 Axes>"
      ]
     },
     "metadata": {
      "needs_background": "light"
     },
     "output_type": "display_data"
    }
   ],
   "source": [
    "sns.histplot(dfjoin['Age'],bins=range(0,90,5),color='teal',kde=True)\n",
    "plt.ylabel(\"Number of Patient\")"
   ]
  },
  {
   "cell_type": "markdown",
   "id": "62722ce1",
   "metadata": {},
   "source": [
    "We see that child (0-5years) come maximum as child needs more healthcare.\n",
    "Also we see age group 15-35 are also good.\n",
    "But old age people are very less.The reason is mostly due to long distance from other.So centre in other villages should be opened."
   ]
  },
  {
   "cell_type": "code",
   "execution_count": 119,
   "id": "353a41d6",
   "metadata": {},
   "outputs": [],
   "source": [
    "bins=pd.cut(dfjoin['Age'],bins=range(0,100,5))"
   ]
  },
  {
   "cell_type": "code",
   "execution_count": 120,
   "id": "4d04f41d",
   "metadata": {},
   "outputs": [
    {
     "data": {
      "text/plain": [
       "0       (65.0, 70.0]\n",
       "1       (45.0, 50.0]\n",
       "2       (25.0, 30.0]\n",
       "19      (50.0, 55.0]\n",
       "20      (20.0, 25.0]\n",
       "            ...     \n",
       "3610             NaN\n",
       "3611             NaN\n",
       "3612             NaN\n",
       "3613             NaN\n",
       "3614             NaN\n",
       "Name: Age, Length: 2490, dtype: category\n",
       "Categories (19, interval[int64]): [(0, 5] < (5, 10] < (10, 15] < (15, 20] ... (75, 80] < (80, 85] < (85, 90] < (90, 95]]"
      ]
     },
     "execution_count": 120,
     "metadata": {},
     "output_type": "execute_result"
    }
   ],
   "source": [
    "bins"
   ]
  },
  {
   "cell_type": "code",
   "execution_count": 139,
   "id": "0cad1fdb",
   "metadata": {},
   "outputs": [
    {
     "data": {
      "text/plain": [
       "Text(0, 0.5, 'Total')"
      ]
     },
     "execution_count": 139,
     "metadata": {},
     "output_type": "execute_result"
    },
    {
     "data": {
      "image/png": "[encoded data removed]",
      "text/plain": [
       "<Figure size 432x288 with 1 Axes>"
      ]
     },
     "metadata": {
      "needs_background": "light"
     },
     "output_type": "display_data"
    }
   ],
   "source": [
    "dfjoin['Totalfees'].groupby(by=bins).sum().plot(kind='bar')\n",
    "plt.ylabel(\"Total\")"
   ]
  },
  {
   "cell_type": "markdown",
   "id": "db331adb",
   "metadata": {},
   "source": [
    "We can clearly see we get good revenue with age group 10-45"
   ]
  },
  {
   "cell_type": "markdown",
   "id": "38f1e487",
   "metadata": {},
   "source": [
    "\n"
   ]
  },
  {
   "cell_type": "code",
   "execution_count": 144,
   "id": "e882f9dc",
   "metadata": {},
   "outputs": [
    {
     "data": {
      "text/plain": [
       "Gender  Age     \n",
       "Female  (0, 5]       23588.0\n",
       "        (5, 10]      32790.0\n",
       "        (10, 15]     73459.0\n",
       "        (15, 20]    113419.0\n",
       "        (20, 25]    162012.0\n",
       "        (25, 30]    137073.0\n",
       "        (30, 35]    143950.0\n",
       "        (35, 40]    134318.0\n",
       "        (40, 45]     62263.0\n",
       "        (45, 50]     48001.0\n",
       "        (50, 55]     19730.0\n",
       "        (55, 60]     23389.0\n",
       "        (60, 65]     12550.0\n",
       "        (65, 70]      8530.0\n",
       "        (70, 75]      3480.0\n",
       "        (75, 80]       490.0\n",
       "        (80, 85]         0.0\n",
       "        (85, 90]         0.0\n",
       "        (90, 95]         0.0\n",
       "Male    (0, 5]       37086.0\n",
       "        (5, 10]      19020.0\n",
       "        (10, 15]     58784.0\n",
       "        (15, 20]     57268.0\n",
       "        (20, 25]    120993.0\n",
       "        (25, 30]    109681.0\n",
       "        (30, 35]     86553.0\n",
       "        (35, 40]     83788.0\n",
       "        (40, 45]     50629.0\n",
       "        (45, 50]     42664.0\n",
       "        (50, 55]     38750.0\n",
       "        (55, 60]     26570.0\n",
       "        (60, 65]     36310.0\n",
       "        (65, 70]     13970.0\n",
       "        (70, 75]     13890.0\n",
       "        (75, 80]      7120.0\n",
       "        (80, 85]      1080.0\n",
       "        (85, 90]         0.0\n",
       "        (90, 95]         0.0\n",
       "Name: Totalfees, dtype: float64"
      ]
     },
     "execution_count": 144,
     "metadata": {},
     "output_type": "execute_result"
    }
   ],
   "source": [
    "dfjoin['Totalfees'].groupby([dfjoin['Gender'],bins]).sum()"
   ]
  },
  {
   "cell_type": "code",
   "execution_count": 152,
   "id": "265105f3",
   "metadata": {},
   "outputs": [
    {
     "data": {
      "text/plain": [
       "Text(0, 0.5, 'Total')"
      ]
     },
     "execution_count": 152,
     "metadata": {},
     "output_type": "execute_result"
    },
    {
     "data": {
      "image/png": "[encoded data removed]",
      "text/plain": [
       "<Figure size 1440x720 with 1 Axes>"
      ]
     },
     "metadata": {
      "needs_background": "light"
     },
     "output_type": "display_data"
    }
   ],
   "source": [
    "\n",
    "dfjoin['Totalfees'].groupby([dfjoin['Gender'],bins]).sum().plot(kind='bar',stacked=True,figsize=(20,10))\n",
    "plt.ylabel(\"Total\")"
   ]
  },
  {
   "cell_type": "markdown",
   "id": "ddcf59b7",
   "metadata": {},
   "source": [
    " \n",
    "We see in both males and females maximum profit comes from age group 10-45 with more revenue from female patients.\n",
    "Hence we have to focus more on other age group such as Old age people and\n",
    "Also it may be good idea to appoint more doctor for female."
   ]
  },
  {
   "cell_type": "markdown",
   "id": "50eaf541",
   "metadata": {},
   "source": [
    "Thanks for reading.\n",
    "I would like to recieve comments and suggestion from you.\n",
    "Email:akdbgbr@gmail.com"
   ]
  }
 ],
 "metadata": {
  "kernelspec": {
   "display_name": "Python 3",
   "language": "python",
   "name": "python3"
  },
  "language_info": {
   "codemirror_mode": {
    "name": "ipython",
    "version": 3
   },
   "file_extension": ".py",
   "mimetype": "text/x-python",
   "name": "python",
   "nbconvert_exporter": "python",
   "pygments_lexer": "ipython3",
   "version": "3.8.8"
  }
 },
 "nbformat": 4,
 "nbformat_minor": 5
}
